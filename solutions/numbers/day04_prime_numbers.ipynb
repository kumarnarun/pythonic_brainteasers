{
 "cells": [
  {
   "cell_type": "markdown",
   "id": "0d1e2d19",
   "metadata": {},
   "source": [
    "## Write a program to check whether a number is prime or not."
   ]
  },
  {
   "cell_type": "markdown",
   "id": "97568966",
   "metadata": {},
   "source": [
    "what is a prime number? A prime number is a number which can be divisible by 1 and the number itself only. Example: 2,5,7,11."
   ]
  },
  {
   "cell_type": "markdown",
   "id": "7ad6568b",
   "metadata": {},
   "source": [
    "what is a divisor? In mathematics, divisors are numbers that can evenly divide another number without leaving a remainder.\n",
    "\n",
    "Factors: Divisors are also known as factors. When \"b\" is a divisor of \"a,\" it means \"b\" is a factor of \"a.\""
   ]
  },
  {
   "cell_type": "markdown",
   "id": "5e3c5020",
   "metadata": {},
   "source": [
    "## What is the efficient way of writing this code?"
   ]
  },
  {
   "cell_type": "code",
   "execution_count": 1,
   "id": "0982aefc",
   "metadata": {},
   "outputs": [],
   "source": [
    "def is_prime(number):\n",
    "    if number <= 1:\n",
    "        return False  # Numbers less than or equal to 1 are not prime\n",
    "    \n",
    "    # Check for divisors from 2 to the square root of the number\n",
    "    for i in range(2, int(number**0.5) + 1):\n",
    "        if number % i == 0:\n",
    "            return False  # Found a divisor, so it's not prime\n",
    "    \n",
    "    return True  # No divisors found, it's prime"
   ]
  },
  {
   "cell_type": "code",
   "execution_count": 4,
   "id": "ca3a7b53",
   "metadata": {},
   "outputs": [
    {
     "data": {
      "text/plain": [
       "True"
      ]
     },
     "execution_count": 4,
     "metadata": {},
     "output_type": "execute_result"
    }
   ],
   "source": [
    "is_prime(101)"
   ]
  },
  {
   "cell_type": "code",
   "execution_count": 5,
   "id": "23c861df",
   "metadata": {},
   "outputs": [
    {
     "data": {
      "text/plain": [
       "False"
      ]
     },
     "execution_count": 5,
     "metadata": {},
     "output_type": "execute_result"
    }
   ],
   "source": [
    "is_prime(100)"
   ]
  },
  {
   "cell_type": "code",
   "execution_count": 6,
   "id": "3cfbb6cd",
   "metadata": {},
   "outputs": [
    {
     "data": {
      "text/plain": [
       "False"
      ]
     },
     "execution_count": 6,
     "metadata": {},
     "output_type": "execute_result"
    }
   ],
   "source": [
    "is_prime(-1)"
   ]
  },
  {
   "cell_type": "markdown",
   "id": "4cdea9bd",
   "metadata": {},
   "source": [
    "## Why should we use square root method to check for primality?"
   ]
  },
  {
   "cell_type": "markdown",
   "id": "9760861d",
   "metadata": {},
   "source": [
    "Checking for primality by iterating up to the square root of a number is a well-known and efficient technique because of some fundamental properties of prime numbers.\n",
    "\n",
    "Reducing Computation: Checking for factors only up to the square root of n significantly reduces the number of iterations required for primality testing. This optimization is particularly valuable for large numbers because it reduces the time complexity of primality testing.\n",
    "\n",
    "For example, if you want to check whether n = 10007 is prime, you would only need to iterate up to sqrt(10007) ≈ 100. Checking factors beyond this point would be redundant because if there were any, they would have corresponding factors smaller than the square root.\n",
    "\n",
    "This square root method is a practical approach that efficiently filters out non-prime numbers and reduces the computational load for primality testing, making it a standard technique in number theory and prime checking algorithms."
   ]
  },
  {
   "cell_type": "code",
   "execution_count": null,
   "id": "54b0379a",
   "metadata": {},
   "outputs": [],
   "source": []
  }
 ],
 "metadata": {
  "kernelspec": {
   "display_name": "Python 3 (ipykernel)",
   "language": "python",
   "name": "python3"
  },
  "language_info": {
   "codemirror_mode": {
    "name": "ipython",
    "version": 3
   },
   "file_extension": ".py",
   "mimetype": "text/x-python",
   "name": "python",
   "nbconvert_exporter": "python",
   "pygments_lexer": "ipython3",
   "version": "3.9.12"
  }
 },
 "nbformat": 4,
 "nbformat_minor": 5
}
