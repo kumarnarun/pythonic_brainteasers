{
 "cells": [
  {
   "cell_type": "markdown",
   "id": "bff6ccd1",
   "metadata": {},
   "source": [
    "## **Challenge:** Given an array of intervals where intervals[i] = [starti, endi], merge all overlapping intervals, and return an array of the non-overlapping intervals that cover all the intervals in the input.\n",
    " \n",
    "Example 1:\n",
    "Input: intervals = [[1,3],[2,6],[8,10],[15,18]]\n",
    "Output: [[1,6],[8,10],[15,18]]\n",
    "Explanation: Since intervals [1,3] and [2,6] overlap, merge them into [1,6].\n",
    "\n",
    "Example 2:\n",
    "Input: intervals = [[1,4],[4,5]]\n",
    "Output: [[1,5]]\n",
    "Explanation: Intervals [1,4] and [4,5] are considered overlapping\n"
   ]
  },
  {
   "cell_type": "markdown",
   "id": "66e78b8d",
   "metadata": {},
   "source": [
    "## Solution"
   ]
  },
  {
   "cell_type": "code",
   "execution_count": 71,
   "id": "221b9305",
   "metadata": {},
   "outputs": [],
   "source": [
    "def merge_intervals(intervals):\n",
    "    #if it is an empty list\n",
    "    \n",
    "    if not intervals:\n",
    "        return []\n",
    "    \n",
    "    # Sort the intervals\n",
    "    intervals.sort()\n",
    "    \n",
    "    merged_intervals = [intervals[0]]\n",
    "    \n",
    "    for num in range (1, len(intervals)):\n",
    "        current_interval = intervals[num]\n",
    "        last_merged_interval = merged_intervals[-1]\n",
    "        \n",
    "        if current_interval[0] <= last_merged_interval[1]:\n",
    "            # If the current interval overlaps with the last merged interval, merge them\n",
    "            last_merged_interval[1] = max(last_merged_interval[1],current_interval[1])\n",
    "            \n",
    "        else:\n",
    "            # If there is no overlap, add the current interval to the result\n",
    "            merged_intervals.append(current_interval)\n",
    "            \n",
    "    return merged_intervals"
   ]
  },
  {
   "cell_type": "markdown",
   "id": "f4e036c2",
   "metadata": {},
   "source": [
    "## Explanation of above code"
   ]
  },
  {
   "cell_type": "markdown",
   "id": "c079b288",
   "metadata": {},
   "source": [
    "**def merge_intervals(intervals):** This line defines the merge_intervals function, which takes a list of intervals as input and returns a list of merged intervals.\n",
    "\n",
    "**if not intervals:** This line checks if the intervals list is empty. If it is, the function returns an empty list.\n",
    "\n",
    "**intervals.sort():** This line sorts the intervals list.\n",
    "\n",
    "**merged_intervals = [intervals[0]]:** This line initializes the merged intervals list with the first interval.\n",
    "\n",
    "**for num in range(1, len(intervals)):** This line iterates over the rest of the intervals.\n",
    "\n",
    "**current_interval = intervals[num]** This line gets the current interval.\n",
    "\n",
    "**last_merged_interval = merged_intervals[-1]** This line gets the last merged interval.\n",
    "\n",
    "**if current_interval[0] <= last_merged_interval[1]:** This line checks if the current interval overlaps with the last merged interval.\n",
    "\n",
    "**last_merged_interval[1] = max(last_merged_interval[1], current_interval[1]):** This line merges the current interval with the last merged interval by updating the last merged interval's end time.\n",
    "\n",
    "**else:** This line executes if the current interval does not overlap with the last merged interval.\n",
    "\n",
    "**merged_intervals.append(current_interval):** This line adds the current interval to the merged intervals list.\n",
    "\n",
    "**return merged_intervals:** This line returns the merged intervals list."
   ]
  },
  {
   "cell_type": "markdown",
   "id": "2037a616",
   "metadata": {},
   "source": [
    "## Executing the above function"
   ]
  },
  {
   "cell_type": "code",
   "execution_count": 72,
   "id": "b77eeecd",
   "metadata": {},
   "outputs": [
    {
     "data": {
      "text/plain": [
       "[[1, 6], [8, 10], [15, 18]]"
      ]
     },
     "execution_count": 72,
     "metadata": {},
     "output_type": "execute_result"
    }
   ],
   "source": [
    "merge_intervals([[1,3],[2,6],[8,10],[15,18]])"
   ]
  },
  {
   "cell_type": "code",
   "execution_count": 73,
   "id": "396aad29",
   "metadata": {},
   "outputs": [
    {
     "data": {
      "text/plain": [
       "[[1, 9]]"
      ]
     },
     "execution_count": 73,
     "metadata": {},
     "output_type": "execute_result"
    }
   ],
   "source": [
    "merge_intervals([[1,3],[3,5],[3,6],[6,9]])"
   ]
  },
  {
   "cell_type": "code",
   "execution_count": 74,
   "id": "9be78f3f",
   "metadata": {},
   "outputs": [
    {
     "data": {
      "text/plain": [
       "[]"
      ]
     },
     "execution_count": 74,
     "metadata": {},
     "output_type": "execute_result"
    }
   ],
   "source": [
    "merge_intervals([])"
   ]
  },
  {
   "cell_type": "markdown",
   "id": "62f32ed1",
   "metadata": {},
   "source": [
    "## Average time taken to excecute this function"
   ]
  },
  {
   "cell_type": "code",
   "execution_count": 75,
   "id": "68c49ea3",
   "metadata": {},
   "outputs": [
    {
     "name": "stdout",
     "output_type": "stream",
     "text": [
      "3.07 µs ± 43.8 ns per loop (mean ± std. dev. of 7 runs, 100,000 loops each)\n"
     ]
    }
   ],
   "source": [
    "%timeit merge_intervals([[1,3],[2,6],[8,10],[15,18]])"
   ]
  },
  {
   "cell_type": "code",
   "execution_count": null,
   "id": "26172c59",
   "metadata": {},
   "outputs": [],
   "source": []
  }
 ],
 "metadata": {
  "kernelspec": {
   "display_name": "Python 3 (ipykernel)",
   "language": "python",
   "name": "python3"
  },
  "language_info": {
   "codemirror_mode": {
    "name": "ipython",
    "version": 3
   },
   "file_extension": ".py",
   "mimetype": "text/x-python",
   "name": "python",
   "nbconvert_exporter": "python",
   "pygments_lexer": "ipython3",
   "version": "3.9.12"
  }
 },
 "nbformat": 4,
 "nbformat_minor": 5
}
