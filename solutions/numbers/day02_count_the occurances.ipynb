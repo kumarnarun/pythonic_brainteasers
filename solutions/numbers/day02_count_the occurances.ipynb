{
 "cells": [
  {
   "cell_type": "markdown",
   "id": "9ce3be38",
   "metadata": {},
   "source": [
    "## Write a function that counts the occurrences of each element in a list and returns a dictionary with the counts."
   ]
  },
  {
   "cell_type": "code",
   "execution_count": 15,
   "id": "5e5aae47",
   "metadata": {},
   "outputs": [],
   "source": [
    "my_list =[1,2,3,3,1,2,3]"
   ]
  },
  {
   "cell_type": "markdown",
   "id": "6fe14bef",
   "metadata": {},
   "source": [
    "## Traditional way of doing this"
   ]
  },
  {
   "cell_type": "code",
   "execution_count": 16,
   "id": "b32d756b",
   "metadata": {},
   "outputs": [],
   "source": [
    "def count_elements_trad(lst): #lst is the list of elements which we give as input\n",
    "    item_count = {}  # Initialize an empty dictionary to store the counts\n",
    "    for item in lst:\n",
    "        if item in item_count:\n",
    "            item_count[item] += 1  # Increment the count if the element is already in the dictionary\n",
    "        else:\n",
    "            item_count[item] = 1  # Initialize the count to 1 if the element is not in the dictionary\n",
    "    return item_count"
   ]
  },
  {
   "cell_type": "markdown",
   "id": "28afb446",
   "metadata": {},
   "source": [
    "## What is happening in the above code"
   ]
  },
  {
   "cell_type": "markdown",
   "id": "2e58fdfb",
   "metadata": {},
   "source": [
    "<span style=\"font-size: 16px; color: black;\">\n",
    "    \n",
    "    1. item_count = {}: An empty dictionary called item_count is initialized. This dictionary will be used to store the counts of each element in the input list.\n",
    "\n",
    "    2.for item in lst:: The code enters a for loop, where it iterates through each element (item) in the input list lst.\n",
    "\n",
    "    3.if item in item_count:: This line checks whether the current element item is already a key in the item_count dictionary. If it is, it means the element has been encountered before, so the code proceeds to the next line.\n",
    "\n",
    "    4.item_count[item] += 1: If the element item is already in the dictionary, the code increments its associated count by 1. This effectively counts the occurrence of the element.\n",
    "\n",
    "    5. else:: If the element item is not in the dictionary, the code executes this block.\n",
    "\n",
    "    6. item_count[item] = 1: In this case, since the element is encountered for the first time, a new entry is added to the item_count dictionary with the element as the key, and its count is initialized to 1.\n",
    "\n",
    "    7.The loop continues to the next element in the list, and the process repeats until all elements in the input list have been counted.\n",
    "\n",
    "    8.Finally, the function returns the item_count dictionary, which contains the counts of each unique element in the input list.\n",
    "</span>"
   ]
  },
  {
   "cell_type": "markdown",
   "id": "2037a616",
   "metadata": {},
   "source": [
    "## Executing the above function"
   ]
  },
  {
   "cell_type": "code",
   "execution_count": 28,
   "id": "a2c45905",
   "metadata": {},
   "outputs": [
    {
     "data": {
      "text/plain": [
       "{1: 2, 2: 2, 3: 3}"
      ]
     },
     "execution_count": 28,
     "metadata": {},
     "output_type": "execute_result"
    }
   ],
   "source": [
    "count_elements_trad(my_list)"
   ]
  },
  {
   "cell_type": "markdown",
   "id": "62f32ed1",
   "metadata": {},
   "source": [
    "## Average time taken to excecute this function"
   ]
  },
  {
   "cell_type": "code",
   "execution_count": 23,
   "id": "68c49ea3",
   "metadata": {},
   "outputs": [
    {
     "name": "stdout",
     "output_type": "stream",
     "text": [
      "703 ns ± 15.6 ns per loop (mean ± std. dev. of 7 runs, 1,000,000 loops each)\n"
     ]
    }
   ],
   "source": [
    "%timeit count_elements_trad(my_list)"
   ]
  },
  {
   "cell_type": "markdown",
   "id": "5b84b0ec",
   "metadata": {},
   "source": [
    "## What can we learn"
   ]
  },
  {
   "cell_type": "markdown",
   "id": "a0ec10bf",
   "metadata": {},
   "source": [
    "<span style=\"font-size: 16px; color: black;\">\n",
    "    \n",
    "    1.what is a list? what are the operations we can do in a list?\n",
    "    2.what is a dictionary? what are the operations we can do in a dictionary?\n",
    "    3.what is the relationship between list and dictionaries?\n",
    "    4.can we use dictionary in a list or vice-versa\n",
    "    5.what are magic functions? what the timeit function does?\n",
    "    \n",
    "</span>"
   ]
  },
  {
   "cell_type": "markdown",
   "id": "0017c1fb",
   "metadata": {},
   "source": [
    "## Other ways and Advanced concepts"
   ]
  },
  {
   "cell_type": "markdown",
   "id": "eb23ddf9",
   "metadata": {},
   "source": [
    "## Dictionary Comprehension"
   ]
  },
  {
   "cell_type": "code",
   "execution_count": 18,
   "id": "483944f9",
   "metadata": {},
   "outputs": [],
   "source": [
    "def count_elements_dict(lst):\n",
    "    element_count = {element: lst.count(element) for element in lst}\n",
    "    return element_count"
   ]
  },
  {
   "cell_type": "code",
   "execution_count": 19,
   "id": "d14bf801",
   "metadata": {},
   "outputs": [
    {
     "data": {
      "text/plain": [
       "{1: 2, 2: 2, 3: 3}"
      ]
     },
     "execution_count": 19,
     "metadata": {},
     "output_type": "execute_result"
    }
   ],
   "source": [
    "count_elements_dict(my_list)"
   ]
  },
  {
   "cell_type": "code",
   "execution_count": 20,
   "id": "604a35a9",
   "metadata": {},
   "outputs": [
    {
     "name": "stdout",
     "output_type": "stream",
     "text": [
      "1.14 µs ± 28 ns per loop (mean ± std. dev. of 7 runs, 1,000,000 loops each)\n"
     ]
    }
   ],
   "source": [
    "%timeit count_elements_dict(my_list)"
   ]
  },
  {
   "cell_type": "markdown",
   "id": "8b72105a",
   "metadata": {},
   "source": [
    "## Collections module"
   ]
  },
  {
   "cell_type": "code",
   "execution_count": 21,
   "id": "4612034e",
   "metadata": {},
   "outputs": [],
   "source": [
    "from collections import Counter"
   ]
  },
  {
   "cell_type": "code",
   "execution_count": 22,
   "id": "b9577a2e",
   "metadata": {},
   "outputs": [],
   "source": [
    "count_elements = lambda lst: dict(Counter(lst))"
   ]
  },
  {
   "cell_type": "code",
   "execution_count": 23,
   "id": "538f00eb",
   "metadata": {},
   "outputs": [
    {
     "data": {
      "text/plain": [
       "{1: 3, 2: 2, 3: 3, 'a': 1, 'b': 1}"
      ]
     },
     "execution_count": 23,
     "metadata": {},
     "output_type": "execute_result"
    }
   ],
   "source": [
    "count_elements([1,2,3,3,1,2,3,'a','b',True])"
   ]
  },
  {
   "cell_type": "code",
   "execution_count": 24,
   "id": "e719693a",
   "metadata": {
    "scrolled": true
   },
   "outputs": [
    {
     "name": "stdout",
     "output_type": "stream",
     "text": [
      "1.53 µs ± 26.1 ns per loop (mean ± std. dev. of 7 runs, 1,000,000 loops each)\n"
     ]
    }
   ],
   "source": [
    "%timeit count_elements([1,2,3,3,1,2,3])"
   ]
  },
  {
   "cell_type": "markdown",
   "id": "223b70df",
   "metadata": {},
   "source": [
    "## What can we learn?"
   ]
  },
  {
   "cell_type": "markdown",
   "id": "8b71e152",
   "metadata": {},
   "source": [
    "<span style=\"font-size: 16px; color: black;\">\n",
    "    \n",
    "    1.what are python oneliners?\n",
    "    2.why we have use lambda functions?\n",
    "    3.Difference between list comprehension and dictionary comprehension\n",
    "    4.what are modules?\n",
    "    5.what does Counter function do in the collection module?\n",
    "</span>"
   ]
  }
 ],
 "metadata": {
  "kernelspec": {
   "display_name": "Python 3 (ipykernel)",
   "language": "python",
   "name": "python3"
  },
  "language_info": {
   "codemirror_mode": {
    "name": "ipython",
    "version": 3
   },
   "file_extension": ".py",
   "mimetype": "text/x-python",
   "name": "python",
   "nbconvert_exporter": "python",
   "pygments_lexer": "ipython3",
   "version": "3.9.12"
  }
 },
 "nbformat": 4,
 "nbformat_minor": 5
}
