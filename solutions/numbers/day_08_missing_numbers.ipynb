{
 "cells": [
  {
   "cell_type": "markdown",
   "id": "72fd6d11",
   "metadata": {},
   "source": [
    "## Challenge: Given an array containing n distinct numbers taken from 0, 1, 2, ..., n, find the missing number.\n",
    "\n",
    "arr = [1, 7]\n",
    "The missing numbers are 0, 2, 3, 4, 5, and 6\n",
    "Explanation: The numbers from 0 to 7 are [0, 1, 2, 3, 4, 5, 6, 7], and 0, 2, 3, 4, 5, and 6 are missing.\n",
    "Therefore, the expected output is [0, 2, 3, 4, 5, 6]."
   ]
  },
  {
   "cell_type": "markdown",
   "id": "417fa3e1",
   "metadata": {},
   "source": [
    "## What is an array?"
   ]
  },
  {
   "cell_type": "markdown",
   "id": "c04ab6ec",
   "metadata": {},
   "source": [
    "An array is a data structure that consists of a collection of elements, each identified by an index or a key. These elements are stored in sequential memory locations, and the array has a fixed size."
   ]
  },
  {
   "cell_type": "markdown",
   "id": "9182f428",
   "metadata": {},
   "source": [
    "## Solution"
   ]
  },
  {
   "cell_type": "code",
   "execution_count": 11,
   "id": "f67ac6bd",
   "metadata": {},
   "outputs": [],
   "source": [
    "def find_missing_numbers(nums):\n",
    "    n = max(nums)\n",
    "    full_set = set(range(n + 1))\n",
    "    return list(full_set - set(nums))"
   ]
  },
  {
   "cell_type": "code",
   "execution_count": 12,
   "id": "f66ce8a7",
   "metadata": {},
   "outputs": [
    {
     "data": {
      "text/plain": [
       "[0, 3, 4]"
      ]
     },
     "execution_count": 12,
     "metadata": {},
     "output_type": "execute_result"
    }
   ],
   "source": [
    "find_missing_numbers([1,2,5])"
   ]
  },
  {
   "cell_type": "code",
   "execution_count": 13,
   "id": "f8d33f2a",
   "metadata": {},
   "outputs": [
    {
     "data": {
      "text/plain": [
       "[0, 2, 3, 4, 5, 6]"
      ]
     },
     "execution_count": 13,
     "metadata": {},
     "output_type": "execute_result"
    }
   ],
   "source": [
    "find_missing_numbers([1,7])"
   ]
  },
  {
   "cell_type": "markdown",
   "id": "e206c147",
   "metadata": {},
   "source": [
    "## Time"
   ]
  },
  {
   "cell_type": "code",
   "execution_count": 15,
   "id": "2639078c",
   "metadata": {},
   "outputs": [
    {
     "name": "stdout",
     "output_type": "stream",
     "text": [
      "903 ns ± 18.9 ns per loop (mean ± std. dev. of 7 runs, 1,000,000 loops each)\n"
     ]
    }
   ],
   "source": [
    "%timeit find_missing_numbers([1,2,5])"
   ]
  },
  {
   "cell_type": "code",
   "execution_count": 16,
   "id": "04883410",
   "metadata": {},
   "outputs": [
    {
     "name": "stdout",
     "output_type": "stream",
     "text": [
      "1.01 µs ± 22.6 ns per loop (mean ± std. dev. of 7 runs, 1,000,000 loops each)\n"
     ]
    }
   ],
   "source": [
    "%timeit find_missing_numbers([1,7])"
   ]
  }
 ],
 "metadata": {
  "kernelspec": {
   "display_name": "Python 3 (ipykernel)",
   "language": "python",
   "name": "python3"
  },
  "language_info": {
   "codemirror_mode": {
    "name": "ipython",
    "version": 3
   },
   "file_extension": ".py",
   "mimetype": "text/x-python",
   "name": "python",
   "nbconvert_exporter": "python",
   "pygments_lexer": "ipython3",
   "version": "3.9.12"
  }
 },
 "nbformat": 4,
 "nbformat_minor": 5
}
