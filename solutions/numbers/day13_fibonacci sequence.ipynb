{
 "cells": [
  {
   "cell_type": "markdown",
   "id": "2f48b187",
   "metadata": {},
   "source": [
    "## Write a function to generate the Fibonacci sequence up to a given number of terms."
   ]
  },
  {
   "cell_type": "markdown",
   "id": "04548efc",
   "metadata": {},
   "source": [
    "**what is a fibonacci sequence?**\n",
    "\n",
    "The Fibonacci sequence is a series of numbers where each number is the sum of the two preceding ones, usually starting with 0 and 1.\n",
    "\n",
    "\n",
    "\n",
    "The sequence typically starts with the numbers 0 and 1:\n",
    "\n",
    "0, 1, 1, 2, 3, 5, 8, 13, 21, 34, ...\n",
    "\n"
   ]
  },
  {
   "cell_type": "markdown",
   "id": "7c4874d1",
   "metadata": {},
   "source": [
    "## Solution"
   ]
  },
  {
   "cell_type": "code",
   "execution_count": 1,
   "id": "7e8250b7",
   "metadata": {},
   "outputs": [],
   "source": [
    "def generate_fibonacci_sequence(n):\n",
    "    fibonacci_sequence = []\n",
    "    a, b = 0, 1\n",
    "\n",
    "    if n <= 0:\n",
    "        return fibonacci_sequence\n",
    "\n",
    "    while len(fibonacci_sequence) < n:\n",
    "        fibonacci_sequence.append(a)\n",
    "        a, b = b, a + b\n",
    "\n",
    "    return fibonacci_sequence\n"
   ]
  },
  {
   "cell_type": "markdown",
   "id": "fc22d9e2",
   "metadata": {},
   "source": [
    "## Code explanation"
   ]
  },
  {
   "cell_type": "markdown",
   "id": "39659e0c",
   "metadata": {},
   "source": [
    "**def generate_fibonacci_sequence(n):**\n",
    "\n",
    "This line defines a function called generate_fibonacci_sequence that takes one argument n, which represents the number of terms in the Fibonacci sequence to generate."
   ]
  },
  {
   "cell_type": "markdown",
   "id": "fdb50605",
   "metadata": {},
   "source": [
    "**Initialize Variables:**\n",
    "\n",
    "**fibonacci_sequence = []**\n",
    "\n",
    "**a, b = 0, 1**\n",
    "\n",
    "fibonacci_sequence is an empty list that will store the Fibonacci sequence.\n",
    "\n",
    "a and b are variables used to keep track of the two most recent Fibonacci numbers. \n",
    "\n",
    "They are initialized to 0 and 1, respectively, which are the first two numbers in the Fibonacci sequence.\n"
   ]
  },
  {
   "cell_type": "markdown",
   "id": "323c99a5",
   "metadata": {},
   "source": [
    "**Check for Valid Input:**\n",
    "\n",
    "**if n <= 0:\n",
    "    return fibonacci_sequence**\n",
    "    \n",
    "\n",
    "This if statement checks if the input n is less than or equal to 0. If n is non-positive (i.e., 0 or negative), the function returns an empty list because there are no Fibonacci numbers to generate.\n",
    "\n"
   ]
  },
  {
   "cell_type": "markdown",
   "id": "feca0433",
   "metadata": {},
   "source": [
    "**Generate Fibonacci Sequence:**\n",
    "    \n",
    "**while len(fibonacci_sequence) < n:**\n",
    "\n",
    "  **fibonacci_sequence.append(a)**\n",
    "    \n",
    "   **a, b = b, a + b**\n",
    "    \n",
    "The while loop continues until the length of fibonacci_sequence is less than n, meaning that it generates Fibonacci numbers up to the nth term.\n",
    "\n",
    "Inside the loop, a (the current Fibonacci number) is appended to fibonacci_sequence, and then a and b are updated to the next pair of Fibonacci numbers.\n",
    "\n",
    "a is updated to b, which becomes the next number in the sequence.\n",
    "\n",
    "b is updated to the sum of the old a and b, which is the next Fibonacci number in line.\n",
    "\n",
    "    \n",
    "    "
   ]
  },
  {
   "cell_type": "code",
   "execution_count": null,
   "id": "18fdb25d",
   "metadata": {},
   "outputs": [],
   "source": [
    "Return Fibonacci Sequence:"
   ]
  },
  {
   "cell_type": "code",
   "execution_count": 2,
   "id": "5f4bbc77",
   "metadata": {},
   "outputs": [
    {
     "data": {
      "text/plain": [
       "[0,\n",
       " 1,\n",
       " 1,\n",
       " 2,\n",
       " 3,\n",
       " 5,\n",
       " 8,\n",
       " 13,\n",
       " 21,\n",
       " 34,\n",
       " 55,\n",
       " 89,\n",
       " 144,\n",
       " 233,\n",
       " 377,\n",
       " 610,\n",
       " 987,\n",
       " 1597,\n",
       " 2584,\n",
       " 4181]"
      ]
     },
     "execution_count": 2,
     "metadata": {},
     "output_type": "execute_result"
    }
   ],
   "source": [
    "generate_fibonacci_sequence(20)"
   ]
  },
  {
   "cell_type": "code",
   "execution_count": 3,
   "id": "8f83f121",
   "metadata": {},
   "outputs": [
    {
     "name": "stdout",
     "output_type": "stream",
     "text": [
      "2.48 µs ± 21.3 ns per loop (mean ± std. dev. of 7 runs, 100,000 loops each)\n"
     ]
    }
   ],
   "source": [
    "%timeit generate_fibonacci_sequence(20)"
   ]
  }
 ],
 "metadata": {
  "kernelspec": {
   "display_name": "Python 3 (ipykernel)",
   "language": "python",
   "name": "python3"
  },
  "language_info": {
   "codemirror_mode": {
    "name": "ipython",
    "version": 3
   },
   "file_extension": ".py",
   "mimetype": "text/x-python",
   "name": "python",
   "nbconvert_exporter": "python",
   "pygments_lexer": "ipython3",
   "version": "3.9.12"
  }
 },
 "nbformat": 4,
 "nbformat_minor": 5
}
