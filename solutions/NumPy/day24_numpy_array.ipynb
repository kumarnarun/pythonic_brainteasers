{
 "cells": [
  {
   "cell_type": "markdown",
   "id": "9132f2df",
   "metadata": {},
   "source": [
    "## Challenge: Generate NumPy arrays using functions like np.arange(), np.linspace(), and np.random."
   ]
  },
  {
   "cell_type": "markdown",
   "id": "840fbdde",
   "metadata": {},
   "source": [
    "## Why NumPy arrays?"
   ]
  },
  {
   "cell_type": "markdown",
   "id": "075b0a6d",
   "metadata": {},
   "source": [
    "NumPy (Numerical Python) is a fundamental library in the Python ecosystem for **numerical and scientific computing.**\n",
    "\n",
    "It provides support for working with large, **multi-dimensional arrays and matrices**, along with a collection of mathematical functions to operate on these arrays efficiently.\n",
    "\n",
    "These arrays are more **memory-efficient and faster to manipulate** than standard Python lists or arrays."
   ]
  },
  {
   "cell_type": "markdown",
   "id": "05db0016",
   "metadata": {},
   "source": [
    "## Importing NumPy bibrary"
   ]
  },
  {
   "cell_type": "code",
   "execution_count": 1,
   "id": "1ba930d0",
   "metadata": {},
   "outputs": [],
   "source": [
    "import numpy as np"
   ]
  },
  {
   "cell_type": "markdown",
   "id": "0f396505",
   "metadata": {},
   "source": [
    "## 1.Using np.arange()"
   ]
  },
  {
   "cell_type": "markdown",
   "id": "dd308158",
   "metadata": {},
   "source": [
    "**np.arange(start, stop, step)** generates evenly spaced values within a specified range."
   ]
  },
  {
   "cell_type": "code",
   "execution_count": 2,
   "id": "1be959e2",
   "metadata": {},
   "outputs": [
    {
     "data": {
      "text/plain": [
       "array([0, 2, 4, 6, 8])"
      ]
     },
     "execution_count": 2,
     "metadata": {},
     "output_type": "execute_result"
    }
   ],
   "source": [
    "arr1 = np.arange(0,10,2)\n",
    "arr1"
   ]
  },
  {
   "cell_type": "markdown",
   "id": "ce1accee",
   "metadata": {},
   "source": [
    "## 2.Using np.linspace():"
   ]
  },
  {
   "cell_type": "markdown",
   "id": "e3bae410",
   "metadata": {},
   "source": [
    "**np.linspace(start, stop, num)** generates num evenly spaced values over the specified range."
   ]
  },
  {
   "cell_type": "code",
   "execution_count": 3,
   "id": "4859a1ab",
   "metadata": {},
   "outputs": [
    {
     "data": {
      "text/plain": [
       "array([0.  , 0.25, 0.5 , 0.75, 1.  ])"
      ]
     },
     "execution_count": 3,
     "metadata": {},
     "output_type": "execute_result"
    }
   ],
   "source": [
    "arr2 = np.linspace(0,1,5)\n",
    "arr2"
   ]
  },
  {
   "cell_type": "code",
   "execution_count": 4,
   "id": "8e773e99",
   "metadata": {},
   "outputs": [
    {
     "data": {
      "text/plain": [
       "array([-2. , -1.8, -1.6, -1.4, -1.2, -1. , -0.8, -0.6, -0.4, -0.2,  0. ,\n",
       "        0.2,  0.4,  0.6,  0.8,  1. ,  1.2,  1.4,  1.6,  1.8])"
      ]
     },
     "execution_count": 4,
     "metadata": {},
     "output_type": "execute_result"
    }
   ],
   "source": [
    "arr2 = np.linspace(-2, 2, 20, endpoint=False)\n",
    "arr2"
   ]
  },
  {
   "cell_type": "markdown",
   "id": "752a2b49",
   "metadata": {},
   "source": [
    "## 3.Using np.random"
   ]
  },
  {
   "cell_type": "markdown",
   "id": "536f6b2f",
   "metadata": {},
   "source": [
    "NumPy's random module provides various functions for generating random arrays."
   ]
  },
  {
   "cell_type": "markdown",
   "id": "cddbda4c",
   "metadata": {},
   "source": [
    "**To generate random integers within a range**"
   ]
  },
  {
   "cell_type": "code",
   "execution_count": 5,
   "id": "797893c0",
   "metadata": {},
   "outputs": [
    {
     "data": {
      "text/plain": [
       "array([42, 56, 14, 70, 23])"
      ]
     },
     "execution_count": 5,
     "metadata": {},
     "output_type": "execute_result"
    }
   ],
   "source": [
    "rand_integers = np.random.randint(1, 100, size=5)  # Generates 5 random integers between 1 and 100\n",
    "rand_integers"
   ]
  },
  {
   "cell_type": "markdown",
   "id": "5e744f6c",
   "metadata": {},
   "source": [
    "**To generate random floating-point numbers from a uniform distribution**"
   ]
  },
  {
   "cell_type": "code",
   "execution_count": 6,
   "id": "85914626",
   "metadata": {},
   "outputs": [
    {
     "data": {
      "text/plain": [
       "array([0.45694842, 0.67470975, 0.2641699 ])"
      ]
     },
     "execution_count": 6,
     "metadata": {},
     "output_type": "execute_result"
    }
   ],
   "source": [
    "rand_uniform = np.random.uniform(0, 1, size=3)  # Generates 3 random floats between 0 and 1\n",
    "rand_uniform"
   ]
  },
  {
   "cell_type": "code",
   "execution_count": null,
   "id": "f2cae804",
   "metadata": {},
   "outputs": [],
   "source": []
  },
  {
   "cell_type": "code",
   "execution_count": 7,
   "id": "6b863978",
   "metadata": {},
   "outputs": [
    {
     "data": {
      "text/plain": [
       "array([-3.12577823,  0.0744072 ,  1.46907653,  0.32915719])"
      ]
     },
     "execution_count": 7,
     "metadata": {},
     "output_type": "execute_result"
    }
   ],
   "source": [
    "rand_normal = np.random.normal(0, 1, size=4)  # Generates 4 random numbers from a standard normal distribution\n",
    "rand_normal"
   ]
  }
 ],
 "metadata": {
  "kernelspec": {
   "display_name": "Python 3 (ipykernel)",
   "language": "python",
   "name": "python3"
  },
  "language_info": {
   "codemirror_mode": {
    "name": "ipython",
    "version": 3
   },
   "file_extension": ".py",
   "mimetype": "text/x-python",
   "name": "python",
   "nbconvert_exporter": "python",
   "pygments_lexer": "ipython3",
   "version": "3.9.12"
  }
 },
 "nbformat": 4,
 "nbformat_minor": 5
}
