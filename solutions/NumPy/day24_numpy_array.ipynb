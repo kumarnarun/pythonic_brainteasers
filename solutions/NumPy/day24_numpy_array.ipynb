{
 "cells": [
  {
   "cell_type": "markdown",
   "id": "ef92182c",
   "metadata": {},
   "source": [
    "## Challenge: Generate NumPy arrays using functions like np.arange(), np.linspace(), and np.random."
   ]
  },
  {
   "cell_type": "markdown",
   "id": "ed7ffd45",
   "metadata": {},
   "source": [
    "## Why NumPy arrays?"
   ]
  },
  {
   "cell_type": "markdown",
   "id": "716ab17a",
   "metadata": {},
   "source": [
    "NumPy (Numerical Python) is a fundamental library in the Python ecosystem for **numerical and scientific computing.**\n",
    "\n",
    "It provides support for working with large, **multi-dimensional arrays and matrices**, along with a collection of mathematical functions to operate on these arrays efficiently.\n",
    "\n",
    "These arrays are more **memory-efficient and faster to manipulate** than standard Python lists or arrays."
   ]
  },
  {
   "cell_type": "markdown",
   "id": "8d0f814c",
   "metadata": {},
   "source": [
    "## Importing NumPy bibrary"
   ]
  },
  {
   "cell_type": "code",
   "execution_count": 1,
   "id": "db9ccf80",
   "metadata": {},
   "outputs": [],
   "source": [
    "import numpy as np"
   ]
  },
  {
   "cell_type": "markdown",
   "id": "711ac358",
   "metadata": {},
   "source": [
    "## 1.Using np.arange()"
   ]
  },
  {
   "cell_type": "markdown",
   "id": "e683b20e",
   "metadata": {},
   "source": [
    "**np.arange(start, stop, step)** generates evenly spaced values within a specified range."
   ]
  },
  {
   "cell_type": "code",
   "execution_count": 2,
   "id": "032ea005",
   "metadata": {},
   "outputs": [
    {
     "data": {
      "text/plain": [
       "array([0, 2, 4, 6, 8])"
      ]
     },
     "execution_count": 2,
     "metadata": {},
     "output_type": "execute_result"
    }
   ],
   "source": [
    "arr1 = np.arange(0,10,2)\n",
    "arr1"
   ]
  },
  {
   "cell_type": "markdown",
   "id": "b71e2adf",
   "metadata": {},
   "source": [
    "## 2.Using np.linspace():"
   ]
  },
  {
   "cell_type": "markdown",
   "id": "338ae224",
   "metadata": {},
   "source": [
    "**np.linspace(start, stop, num)** generates num evenly spaced values over the specified range."
   ]
  },
  {
   "cell_type": "code",
   "execution_count": 3,
   "id": "8eaf2a88",
   "metadata": {},
   "outputs": [
    {
     "data": {
      "text/plain": [
       "array([0.  , 0.25, 0.5 , 0.75, 1.  ])"
      ]
     },
     "execution_count": 3,
     "metadata": {},
     "output_type": "execute_result"
    }
   ],
   "source": [
    "arr2 = np.linspace(0,1,5)\n",
    "arr2"
   ]
  },
  {
   "cell_type": "code",
   "execution_count": 4,
   "id": "6042e3ac",
   "metadata": {},
   "outputs": [
    {
     "data": {
      "text/plain": [
       "array([-2. , -1.8, -1.6, -1.4, -1.2, -1. , -0.8, -0.6, -0.4, -0.2,  0. ,\n",
       "        0.2,  0.4,  0.6,  0.8,  1. ,  1.2,  1.4,  1.6,  1.8])"
      ]
     },
     "execution_count": 4,
     "metadata": {},
     "output_type": "execute_result"
    }
   ],
   "source": [
    "arr2 = np.linspace(-2, 2, 20, endpoint=False)\n",
    "arr2"
   ]
  },
  {
   "cell_type": "markdown",
   "id": "08abb1ba",
   "metadata": {},
   "source": [
    "## 3.Using np.random"
   ]
  },
  {
   "cell_type": "markdown",
   "id": "b0d61cf0",
   "metadata": {},
   "source": [
    "NumPy's random module provides various functions for generating random arrays."
   ]
  },
  {
   "cell_type": "markdown",
   "id": "8ed9b505",
   "metadata": {},
   "source": [
    "**To generate random integers within a range**"
   ]
  },
  {
   "cell_type": "code",
   "execution_count": 5,
   "id": "45f3973a",
   "metadata": {},
   "outputs": [
    {
     "data": {
      "text/plain": [
       "array([42, 56, 14, 70, 23])"
      ]
     },
     "execution_count": 5,
     "metadata": {},
     "output_type": "execute_result"
    }
   ],
   "source": [
    "rand_integers = np.random.randint(1, 100, size=5)  # Generates 5 random integers between 1 and 100\n",
    "rand_integers"
   ]
  },
  {
   "cell_type": "markdown",
   "id": "211beca8",
   "metadata": {},
   "source": [
    "**To generate random floating-point numbers from a uniform distribution**"
   ]
  },
  {
   "cell_type": "code",
   "execution_count": 6,
   "id": "6ca74061",
   "metadata": {},
   "outputs": [
    {
     "data": {
      "text/plain": [
       "array([0.45694842, 0.67470975, 0.2641699 ])"
      ]
     },
     "execution_count": 6,
     "metadata": {},
     "output_type": "execute_result"
    }
   ],
   "source": [
    "rand_uniform = np.random.uniform(0, 1, size=3)  # Generates 3 random floats between 0 and 1\n",
    "rand_uniform"
   ]
  },
  {
   "cell_type": "markdown",
   "id": "0420f12a",
   "metadata": {},
   "source": [
    "**To generate random numbers from a normal distribution (Gaussian)**"
   ]
  },
  {
   "cell_type": "code",
   "execution_count": 7,
   "id": "85aab352",
   "metadata": {},
   "outputs": [
    {
     "data": {
      "text/plain": [
       "array([-3.12577823,  0.0744072 ,  1.46907653,  0.32915719])"
      ]
     },
     "execution_count": 7,
     "metadata": {},
     "output_type": "execute_result"
    }
   ],
   "source": [
    "rand_normal = np.random.normal(0, 1, size=4)  # Generates 4 random numbers from a standard normal distribution\n",
    "rand_normal"
   ]
  }
 ],
 "metadata": {
  "kernelspec": {
   "display_name": "Python 3 (ipykernel)",
   "language": "python",
   "name": "python3"
  },
  "language_info": {
   "codemirror_mode": {
    "name": "ipython",
    "version": 3
   },
   "file_extension": ".py",
   "mimetype": "text/x-python",
   "name": "python",
   "nbconvert_exporter": "python",
   "pygments_lexer": "ipython3",
   "version": "3.9.12"
  }
 },
 "nbformat": 4,
 "nbformat_minor": 5
}
