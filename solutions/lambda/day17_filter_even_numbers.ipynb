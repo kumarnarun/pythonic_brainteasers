{
 "cells": [
  {
   "cell_type": "markdown",
   "id": "92c0ffdd",
   "metadata": {},
   "source": [
    "## Challenge: Write a Python program that uses filter() and a lambda function to filter even numbers from a list of integers.\n"
   ]
  },
  {
   "cell_type": "markdown",
   "id": "b53afbbf",
   "metadata": {},
   "source": [
    "## How does a filter() function works"
   ]
  },
  {
   "cell_type": "markdown",
   "id": "3593ab85",
   "metadata": {},
   "source": [
    "The filter() function is a built-in Python function that takes two arguments: a function and an iterable (e.g., a list).\n",
    "\n",
    "It returns an iterator (in Python 3) that contains elements from the iterable for which the function returns True."
   ]
  },
  {
   "cell_type": "markdown",
   "id": "bdc4b62c",
   "metadata": {},
   "source": [
    "## general pattern of filter() function with lambda"
   ]
  },
  {
   "cell_type": "markdown",
   "id": "2fad0eb0",
   "metadata": {},
   "source": [
    "filtered_result = list(filter(lambda x: condition(x), iterable))"
   ]
  },
  {
   "cell_type": "markdown",
   "id": "08635575",
   "metadata": {},
   "source": [
    "## Solution"
   ]
  },
  {
   "cell_type": "markdown",
   "id": "32ee7fc3",
   "metadata": {},
   "source": [
    "##  Define a list of integers"
   ]
  },
  {
   "cell_type": "code",
   "execution_count": 1,
   "id": "df44bac3",
   "metadata": {},
   "outputs": [],
   "source": [
    "numbers = [1, 2, 3, 4, 5, 6]"
   ]
  },
  {
   "cell_type": "markdown",
   "id": "64cb53c4",
   "metadata": {},
   "source": [
    "## Use filter() with a lambda function to filter even numbers"
   ]
  },
  {
   "cell_type": "code",
   "execution_count": 2,
   "id": "4075b047",
   "metadata": {},
   "outputs": [],
   "source": [
    "even_numbers = list(filter(lambda x: x % 2 == 0, numbers))"
   ]
  },
  {
   "cell_type": "markdown",
   "id": "3f77dcc0",
   "metadata": {},
   "source": [
    "## result"
   ]
  },
  {
   "cell_type": "code",
   "execution_count": 3,
   "id": "055c5a98",
   "metadata": {},
   "outputs": [
    {
     "data": {
      "text/plain": [
       "[2, 4, 6]"
      ]
     },
     "execution_count": 3,
     "metadata": {},
     "output_type": "execute_result"
    }
   ],
   "source": [
    "even_numbers"
   ]
  },
  {
   "cell_type": "markdown",
   "id": "990922fd",
   "metadata": {},
   "source": [
    "## Time"
   ]
  },
  {
   "cell_type": "code",
   "execution_count": 4,
   "id": "eba598c1",
   "metadata": {},
   "outputs": [
    {
     "name": "stdout",
     "output_type": "stream",
     "text": [
      "845 ns ± 13.8 ns per loop (mean ± std. dev. of 7 runs, 1,000,000 loops each)\n"
     ]
    }
   ],
   "source": [
    "%timeit even_numbers = list(filter(lambda x: x % 2 == 0, numbers))"
   ]
  }
 ],
 "metadata": {
  "kernelspec": {
   "display_name": "Python 3 (ipykernel)",
   "language": "python",
   "name": "python3"
  },
  "language_info": {
   "codemirror_mode": {
    "name": "ipython",
    "version": 3
   },
   "file_extension": ".py",
   "mimetype": "text/x-python",
   "name": "python",
   "nbconvert_exporter": "python",
   "pygments_lexer": "ipython3",
   "version": "3.9.12"
  }
 },
 "nbformat": 4,
 "nbformat_minor": 5
}
