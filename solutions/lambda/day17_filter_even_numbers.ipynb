{
 "cells": [
  {
   "cell_type": "markdown",
   "id": "f7c4cb6f",
   "metadata": {},
   "source": [
    "## Challenge: Write a Python program that uses filter() and a lambda function to filter even numbers from a list of integers.\n"
   ]
  },
  {
   "cell_type": "markdown",
   "id": "7f0924c8",
   "metadata": {},
   "source": [
    "## How does a filter() function works"
   ]
  },
  {
   "cell_type": "markdown",
   "id": "2ab7a6e0",
   "metadata": {},
   "source": [
    "The filter() function is a built-in Python function that takes two arguments: a function and an iterable (e.g., a list).\n",
    "\n",
    "It returns an iterator (in Python 3) that contains elements from the iterable for which the function returns True."
   ]
  },
  {
   "cell_type": "markdown",
   "id": "1e8582d9",
   "metadata": {},
   "source": [
    "## general pattern of filter() function with lambda"
   ]
  },
  {
   "cell_type": "markdown",
   "id": "5b0a8c76",
   "metadata": {},
   "source": [
    "filtered_result = list(filter(lambda x: condition(x), iterable))"
   ]
  },
  {
   "cell_type": "markdown",
   "id": "93e72e5f",
   "metadata": {},
   "source": [
    "## Solution"
   ]
  },
  {
   "cell_type": "markdown",
   "id": "cc5eb5aa",
   "metadata": {},
   "source": [
    "##  Define a list of integers"
   ]
  },
  {
   "cell_type": "code",
   "execution_count": 1,
   "id": "7e2178c7",
   "metadata": {},
   "outputs": [],
   "source": [
    "numbers = [1, 2, 3, 4, 5, 6]"
   ]
  },
  {
   "cell_type": "markdown",
   "id": "4fde5739",
   "metadata": {},
   "source": [
    "## Use filter() with a lambda function to filter even numbers"
   ]
  },
  {
   "cell_type": "code",
   "execution_count": 2,
   "id": "c88af522",
   "metadata": {},
   "outputs": [],
   "source": [
    "even_numbers = list(filter(lambda x: x % 2 == 0, numbers))"
   ]
  },
  {
   "cell_type": "markdown",
   "id": "b42e8377",
   "metadata": {},
   "source": [
    "## result"
   ]
  },
  {
   "cell_type": "code",
   "execution_count": 3,
   "id": "a18eaf90",
   "metadata": {},
   "outputs": [
    {
     "data": {
      "text/plain": [
       "[2, 4, 6]"
      ]
     },
     "execution_count": 3,
     "metadata": {},
     "output_type": "execute_result"
    }
   ],
   "source": [
    "even_numbers"
   ]
  },
  {
   "cell_type": "markdown",
   "id": "a7df6018",
   "metadata": {},
   "source": [
    "## Time"
   ]
  },
  {
   "cell_type": "code",
   "execution_count": null,
   "id": "fc96820b",
   "metadata": {},
   "outputs": [],
   "source": []
  }
 ],
 "metadata": {
  "kernelspec": {
   "display_name": "Python 3 (ipykernel)",
   "language": "python",
   "name": "python3"
  },
  "language_info": {
   "codemirror_mode": {
    "name": "ipython",
    "version": 3
   },
   "file_extension": ".py",
   "mimetype": "text/x-python",
   "name": "python",
   "nbconvert_exporter": "python",
   "pygments_lexer": "ipython3",
   "version": "3.9.12"
  }
 },
 "nbformat": 4,
 "nbformat_minor": 5
}
