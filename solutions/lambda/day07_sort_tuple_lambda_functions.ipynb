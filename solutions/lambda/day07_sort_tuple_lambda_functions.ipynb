{
 "cells": [
  {
   "cell_type": "markdown",
   "id": "cd1836b1",
   "metadata": {},
   "source": [
    "## Challenge:  Write a Python program to sort a list of tuples using Lambda."
   ]
  },
  {
   "cell_type": "markdown",
   "id": "e03c4cf2",
   "metadata": {},
   "source": [
    "Original list of tuples:\n",
    "[('English', 88), ('Science', 90), ('Maths', 97), ('Social sciences', 82)]\n",
    "\n",
    "Sorting the List of Tuples:\n",
    "[('Social sciences', 82), ('English', 88), ('Science', 90), ('Maths', 97)]"
   ]
  },
  {
   "cell_type": "markdown",
   "id": "b573767d",
   "metadata": {},
   "source": [
    "## What is a lambda function?"
   ]
  },
  {
   "cell_type": "markdown",
   "id": "907f54f8",
   "metadata": {},
   "source": [
    "Lambda functions are defined using the lambda keyword, followed by the function parameters and an expression. They are typically short and concise, making them suitable for simple operations.\n",
    "\n",
    "**Anonymous Functions:** Lambda functions are anonymous, unnamed functions.\n",
    "\n",
    "**Single Expression:** Can only contain a single expression, evaluated and returned.\n",
    "\n",
    "**Use Cases:** Commonly used for sorting, filtering, mapping, and functional programming."
   ]
  },
  {
   "cell_type": "markdown",
   "id": "9bbce629",
   "metadata": {},
   "source": [
    "## Solution"
   ]
  },
  {
   "cell_type": "code",
   "execution_count": 2,
   "id": "2062c96c",
   "metadata": {},
   "outputs": [],
   "source": [
    "data = [('English', 88), ('Science', 90), ('Maths', 97), ('Social sciences', 82)]"
   ]
  },
  {
   "cell_type": "code",
   "execution_count": 12,
   "id": "487c1ee0",
   "metadata": {},
   "outputs": [],
   "source": [
    "#Sort the list of tuples based on the second element (scores)\n",
    "sorted_data = sorted(data, key=lambda x: x[1])"
   ]
  },
  {
   "cell_type": "code",
   "execution_count": 13,
   "id": "702c88e0",
   "metadata": {},
   "outputs": [
    {
     "data": {
      "text/plain": [
       "[('Social sciences', 82), ('English', 88), ('Science', 90), ('Maths', 97)]"
      ]
     },
     "execution_count": 13,
     "metadata": {},
     "output_type": "execute_result"
    }
   ],
   "source": [
    "sorted_data"
   ]
  },
  {
   "cell_type": "code",
   "execution_count": 14,
   "id": "cf340c0e",
   "metadata": {},
   "outputs": [
    {
     "name": "stdout",
     "output_type": "stream",
     "text": [
      "503 ns ± 9.68 ns per loop (mean ± std. dev. of 7 runs, 1,000,000 loops each)\n"
     ]
    }
   ],
   "source": [
    "%timeit sorted_data = sorted(data, key=lambda x: x[1])"
   ]
  },
  {
   "cell_type": "markdown",
   "id": "eded1a8a",
   "metadata": {},
   "source": [
    "## Time and space complexity"
   ]
  },
  {
   "cell_type": "markdown",
   "id": "299c7068",
   "metadata": {},
   "source": [
    "Lambda functions in Python don't have a specific time or space complexity by themselves because their performance depends on how they are used within the context of your code and the operations performed inside it."
   ]
  },
  {
   "cell_type": "code",
   "execution_count": null,
   "id": "1bb26b17",
   "metadata": {},
   "outputs": [],
   "source": []
  }
 ],
 "metadata": {
  "kernelspec": {
   "display_name": "Python 3 (ipykernel)",
   "language": "python",
   "name": "python3"
  },
  "language_info": {
   "codemirror_mode": {
    "name": "ipython",
    "version": 3
   },
   "file_extension": ".py",
   "mimetype": "text/x-python",
   "name": "python",
   "nbconvert_exporter": "python",
   "pygments_lexer": "ipython3",
   "version": "3.9.12"
  }
 },
 "nbformat": 4,
 "nbformat_minor": 5
}
