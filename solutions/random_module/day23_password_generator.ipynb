{
 "cells": [
  {
   "cell_type": "markdown",
   "id": "a0c511c8",
   "metadata": {},
   "source": [
    "## Challenge: Use random module to generate a random password with a specified length."
   ]
  },
  {
   "cell_type": "markdown",
   "id": "7b7b795e",
   "metadata": {},
   "source": [
    "## What is the purpose of random module?"
   ]
  },
  {
   "cell_type": "markdown",
   "id": "8b40a330",
   "metadata": {},
   "source": [
    "The random module in Python serves the purpose of generating random numbers and performing randomization-related operations.\n",
    "\n",
    "It provides functions for generating both pseudo-random and cryptographically strong random numbers, making it useful for various applications, including simulations, games, cryptography, and password generation."
   ]
  },
  {
   "cell_type": "markdown",
   "id": "b5deb4dc",
   "metadata": {},
   "source": [
    "## Solution"
   ]
  },
  {
   "cell_type": "code",
   "execution_count": 1,
   "id": "ad090583",
   "metadata": {},
   "outputs": [],
   "source": [
    "import random\n",
    "import string\n",
    "\n",
    "def generate_random_password(length):\n",
    "    # Define characters for the password (letters, digits, and symbols)\n",
    "    characters = string.ascii_letters + string.digits + string.punctuation\n",
    "\n",
    "    # Ensure that the length is at least 8 characters\n",
    "    if length < 8:\n",
    "        raise ValueError(\"Password length should be at least 8 characters\")\n",
    "\n",
    "    # Generate a random password\n",
    "    password = ''.join(random.choice(characters) for _ in range(length))\n",
    "\n",
    "    return password\n"
   ]
  },
  {
   "cell_type": "markdown",
   "id": "ded67d01",
   "metadata": {},
   "source": [
    "## Code Explanation"
   ]
  },
  {
   "cell_type": "markdown",
   "id": "3b2aa61c",
   "metadata": {},
   "source": [
    "## Import modules"
   ]
  },
  {
   "cell_type": "markdown",
   "id": "7e8d52d6",
   "metadata": {},
   "source": [
    "We import the **random** module for generating random numbers and the **string** module for accessing character sets that will be used in the password."
   ]
  },
  {
   "cell_type": "markdown",
   "id": "a5af67d8",
   "metadata": {},
   "source": [
    "## Define the generate_random_password Function:"
   ]
  },
  {
   "cell_type": "markdown",
   "id": "e9be1770",
   "metadata": {},
   "source": [
    "We define a function called **generate_random_password** that takes one argument, **length**, which specifies the desired length of the password."
   ]
  },
  {
   "cell_type": "markdown",
   "id": "703ee444",
   "metadata": {},
   "source": [
    "## Define Character Set"
   ]
  },
  {
   "cell_type": "markdown",
   "id": "f949c2c9",
   "metadata": {},
   "source": [
    "**characters = string.ascii_letters + string.digits + string.punctuation**\n"
   ]
  },
  {
   "cell_type": "markdown",
   "id": "295fc236",
   "metadata": {},
   "source": [
    "We define a characters variable that contains a **combination of uppercase letters, lowercase letters, digits, and punctuation symbols.** \n",
    "\n",
    "This character set will be used to create the random password."
   ]
  },
  {
   "cell_type": "markdown",
   "id": "a14e4119",
   "metadata": {},
   "source": [
    "## Check Minimum Length"
   ]
  },
  {
   "cell_type": "markdown",
   "id": "ff019408",
   "metadata": {},
   "source": [
    "**if length < 8:\n",
    "    raise ValueError(\"Password length should be at least 8 characters\")**"
   ]
  },
  {
   "cell_type": "markdown",
   "id": "74dc434d",
   "metadata": {},
   "source": [
    "We include a check to ensure that the requested password length is at least 8 characters.\n",
    "\n",
    "This is a common minimum password length requirement."
   ]
  },
  {
   "cell_type": "markdown",
   "id": "112fd2f7",
   "metadata": {},
   "source": [
    "## Generate Random Password"
   ]
  },
  {
   "cell_type": "markdown",
   "id": "267db9e3",
   "metadata": {},
   "source": [
    "**password = ''.join(random.choice(characters) for _ in range(length))**"
   ]
  },
  {
   "cell_type": "markdown",
   "id": "cb1d2bff",
   "metadata": {},
   "source": [
    "It repeats the **random.choice(characters)** operation **length** times to generate a sequence of random characters.\n",
    "\n",
    "It then joins these random characters into a single string using **join()**."
   ]
  },
  {
   "cell_type": "markdown",
   "id": "459f2a81",
   "metadata": {},
   "source": [
    "**_** is a common convention to indicate that the loop variable is not used within the loop; it's a way of ignoring the loop variable."
   ]
  },
  {
   "cell_type": "markdown",
   "id": "42311946",
   "metadata": {},
   "source": [
    "## Return the password"
   ]
  },
  {
   "cell_type": "markdown",
   "id": "23a23bf5",
   "metadata": {},
   "source": [
    "We return the generated random password as a string."
   ]
  },
  {
   "cell_type": "markdown",
   "id": "f8cf8cfa",
   "metadata": {},
   "source": [
    "## Test_cases"
   ]
  },
  {
   "cell_type": "code",
   "execution_count": 3,
   "id": "4d941c84",
   "metadata": {},
   "outputs": [
    {
     "data": {
      "text/plain": [
       "'{>V\\\\*9LU~0c7ji,'"
      ]
     },
     "execution_count": 3,
     "metadata": {},
     "output_type": "execute_result"
    }
   ],
   "source": [
    "generate_random_password(15)"
   ]
  },
  {
   "cell_type": "code",
   "execution_count": 15,
   "id": "5ac6ba5b",
   "metadata": {},
   "outputs": [
    {
     "data": {
      "text/plain": [
       "\"wU'S->-rDU\\\\7W8#qj9_%REfn.`#RUSdI,Th6KR~UYKN{eAId)C\""
      ]
     },
     "execution_count": 15,
     "metadata": {},
     "output_type": "execute_result"
    }
   ],
   "source": [
    "generate_random_password(50)"
   ]
  },
  {
   "cell_type": "markdown",
   "id": "a3ad8397",
   "metadata": {},
   "source": [
    "## Checking string operations"
   ]
  },
  {
   "cell_type": "code",
   "execution_count": 13,
   "id": "29289f40",
   "metadata": {
    "scrolled": true
   },
   "outputs": [
    {
     "data": {
      "text/plain": [
       "'!\"#$%&\\'()*+,-./:;<=>?@[\\\\]^_`{|}~'"
      ]
     },
     "execution_count": 13,
     "metadata": {},
     "output_type": "execute_result"
    }
   ],
   "source": [
    "string.punctuation"
   ]
  },
  {
   "cell_type": "code",
   "execution_count": 12,
   "id": "1599cad7",
   "metadata": {},
   "outputs": [
    {
     "data": {
      "text/plain": [
       "'0123456789'"
      ]
     },
     "execution_count": 12,
     "metadata": {},
     "output_type": "execute_result"
    }
   ],
   "source": [
    "string.digits"
   ]
  },
  {
   "cell_type": "code",
   "execution_count": 11,
   "id": "08df247e",
   "metadata": {},
   "outputs": [
    {
     "data": {
      "text/plain": [
       "'abcdefghijklmnopqrstuvwxyzABCDEFGHIJKLMNOPQRSTUVWXYZ'"
      ]
     },
     "execution_count": 11,
     "metadata": {},
     "output_type": "execute_result"
    }
   ],
   "source": [
    "string.ascii_letters"
   ]
  }
 ],
 "metadata": {
  "kernelspec": {
   "display_name": "Python 3 (ipykernel)",
   "language": "python",
   "name": "python3"
  },
  "language_info": {
   "codemirror_mode": {
    "name": "ipython",
    "version": 3
   },
   "file_extension": ".py",
   "mimetype": "text/x-python",
   "name": "python",
   "nbconvert_exporter": "python",
   "pygments_lexer": "ipython3",
   "version": "3.9.12"
  }
 },
 "nbformat": 4,
 "nbformat_minor": 5
}
