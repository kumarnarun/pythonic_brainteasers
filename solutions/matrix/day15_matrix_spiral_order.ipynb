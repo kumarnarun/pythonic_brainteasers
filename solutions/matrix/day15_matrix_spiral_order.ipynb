{
 "cells": [
  {
   "cell_type": "markdown",
   "id": "c83ab835",
   "metadata": {},
   "source": [
    "## Challenge: Given an n x m matrix, write a function that returns its elements in spiral order."
   ]
  },
  {
   "cell_type": "markdown",
   "id": "8d9a55c7",
   "metadata": {},
   "source": [
    "## What is an n x m matrix?"
   ]
  },
  {
   "cell_type": "markdown",
   "id": "d7aac1a7",
   "metadata": {},
   "source": [
    "It is a two-dimensional array or grid with \"n\" rows and \"m\" columns.\n",
    "\n",
    "\"n\" refers to the number of rows in the matrix. Rows are the horizontal sequences of elements in the matrix.\n",
    "\n",
    "\"m\" refers to the number of columns in the matrix. Columns are the vertical sequences of elements in the matrix."
   ]
  },
  {
   "cell_type": "markdown",
   "id": "61f31322",
   "metadata": {},
   "source": [
    "## Step by step process"
   ]
  },
  {
   "cell_type": "markdown",
   "id": "57d1263b",
   "metadata": {},
   "source": [
    "## 1. Initialization"
   ]
  },
  {
   "cell_type": "markdown",
   "id": "b46fec98",
   "metadata": {},
   "source": [
    "**Input:** An n x m matrix.\n",
    "\n",
    "**Output:** A list containing the elements in spiral order.\n",
    "\n",
    "\n",
    "**1.Initialize** an empty list to store the result, which will hold the elements in spiral order.\n"
   ]
  },
  {
   "cell_type": "markdown",
   "id": "5f4c9c02",
   "metadata": {},
   "source": [
    "## 2. Pointers"
   ]
  },
  {
   "cell_type": "markdown",
   "id": "0b9abf91",
   "metadata": {},
   "source": [
    "**2.Initialize four pointers: top, bottom, left, and right**, each initially pointing to the boundaries of the matrix:\n",
    "\n",
    "**top** points to the top row.\n",
    "\n",
    "**bottom** points to the bottom row.\n",
    "\n",
    "**left** points to the leftmost column.\n",
    "\n",
    "**right** points to the rightmost column."
   ]
  },
  {
   "cell_type": "markdown",
   "id": "e9e47a1d",
   "metadata": {},
   "source": [
    "## 3.Creating a while loop"
   ]
  },
  {
   "cell_type": "markdown",
   "id": "d043baae",
   "metadata": {},
   "source": [
    "**3.Create a while loop** that runs as long as the top pointer is less than or equal to the bottom pointer and the left pointer is less than or equal to the right pointer. This ensures that the loop processes the entire matrix.\n"
   ]
  },
  {
   "cell_type": "markdown",
   "id": "650f35e9",
   "metadata": {},
   "source": [
    "## 4.Inside the while loop"
   ]
  },
  {
   "cell_type": "markdown",
   "id": "b5216ebd",
   "metadata": {},
   "source": [
    "**4.Inside the while loop**, perform the following steps in order:\n",
    "\n",
    "a. **Traverse** the top row from left to right:\n",
    "\n",
    "     Use a for loop with an index variable i ranging from left to right.\n",
    "   \n",
    "     Append the element at **matrix[top][i]** to the result list.\n",
    "     \n",
    "   \n",
    "b. Increment the **top** pointer by 1 to move down one row.\n",
    "\n",
    "\n",
    "c. Traverse the right column from top to bottom:\n",
    "\n",
    "     Use a **for loop** with an index variable i ranging from top to bottom.\n",
    "   \n",
    "     Append the element at **matrix[i][right]** to the result list.\n",
    "     \n",
    "   \n",
    "d. Decrement the **right** pointer by 1 to move one column to the left.\n",
    "\n",
    "\n",
    "e. Check if **top** is less than or equal to bottom (i.e., there are more rows to traverse):\n",
    "\n",
    "     If true, repeat step 4a (traverse the right column) to process the next column.\n",
    "   \n",
    "     If false, exit the loop.\n",
    "     \n",
    "   \n",
    "f. Traverse the bottom row from right to left:\n",
    "\n",
    "     Use a **for loop** with an index variable i ranging from right to left, iterating in reverse      order.\n",
    "   \n",
    "     Append the element at **matrix[bottom][i]** to the result list.\n",
    "     \n",
    "   \n",
    "g. Decrement the bottom pointer by 1 to move up one row.\n",
    "\n",
    "\n",
    "h. Check if left is less than or equal to right (i.e., there are more columns to traverse):\n",
    "\n",
    "     If true, repeat step 4f (traverse the bottom row) to process the next row.\n",
    "   \n",
    "     If false, exit the loop."
   ]
  },
  {
   "cell_type": "markdown",
   "id": "28e63a3b",
   "metadata": {},
   "source": [
    "## 5. Return the spiral list"
   ]
  },
  {
   "cell_type": "markdown",
   "id": "7abff9bc",
   "metadata": {},
   "source": [
    "**5.Once the while loop** is complete, return the result list containing the elements in spiral order."
   ]
  },
  {
   "cell_type": "code",
   "execution_count": 2,
   "id": "5736097e",
   "metadata": {},
   "outputs": [],
   "source": [
    "def spiral_order(matrix):\n",
    "    if not matrix:\n",
    "        return []\n",
    "\n",
    "    result = []\n",
    "    top, bottom, left, right = 0, len(matrix) - 1, 0, len(matrix[0]) - 1\n",
    "\n",
    "    while top <= bottom and left <= right:\n",
    "        # Traverse from left to right\n",
    "        for i in range(left, right + 1):\n",
    "            result.append(matrix[top][i])\n",
    "        top += 1\n",
    "\n",
    "        # Traverse from top to bottom\n",
    "        for i in range(top, bottom + 1):\n",
    "            result.append(matrix[i][right])\n",
    "        right -= 1\n",
    "\n",
    "        if top <= bottom:\n",
    "            # Traverse from right to left\n",
    "            for i in range(right, left - 1, -1):\n",
    "                result.append(matrix[bottom][i])\n",
    "            bottom -= 1\n",
    "\n",
    "        if left <= right:\n",
    "            # Traverse from bottom to top\n",
    "            for i in range(bottom, top - 1, -1):\n",
    "                result.append(matrix[i][left])\n",
    "            left += 1\n",
    "\n",
    "    return result"
   ]
  },
  {
   "cell_type": "markdown",
   "id": "5305f0e8",
   "metadata": {},
   "source": [
    "## Checking the function"
   ]
  },
  {
   "cell_type": "code",
   "execution_count": 3,
   "id": "d612965c",
   "metadata": {},
   "outputs": [
    {
     "name": "stdout",
     "output_type": "stream",
     "text": [
      "[1, 2, 3, 6, 9, 8, 7, 4, 5]\n"
     ]
    }
   ],
   "source": [
    "matrix1 = [\n",
    "    [1, 2, 3],\n",
    "    [4, 5, 6],\n",
    "    [7, 8, 9]\n",
    "]\n",
    "print(spiral_order(matrix1))"
   ]
  },
  {
   "cell_type": "code",
   "execution_count": 4,
   "id": "2bfd4631",
   "metadata": {},
   "outputs": [
    {
     "name": "stdout",
     "output_type": "stream",
     "text": [
      "[1, 2, 3, 4, 8, 12, 11, 10, 9, 5, 6, 7]\n"
     ]
    }
   ],
   "source": [
    "matrix2 = [\n",
    "    [1, 2, 3, 4],\n",
    "    [5, 6, 7, 8],\n",
    "    [9, 10, 11, 12]\n",
    "]\n",
    "print(spiral_order(matrix2))"
   ]
  },
  {
   "cell_type": "markdown",
   "id": "c54856cd",
   "metadata": {},
   "source": [
    "## Time of execution"
   ]
  },
  {
   "cell_type": "code",
   "execution_count": 5,
   "id": "5b0e5447",
   "metadata": {},
   "outputs": [
    {
     "name": "stdout",
     "output_type": "stream",
     "text": [
      "2.36 µs ± 26.4 ns per loop (mean ± std. dev. of 7 runs, 100,000 loops each)\n"
     ]
    }
   ],
   "source": [
    "%timeit spiral_order(matrix1)"
   ]
  },
  {
   "cell_type": "code",
   "execution_count": 6,
   "id": "3e0c3213",
   "metadata": {},
   "outputs": [
    {
     "name": "stdout",
     "output_type": "stream",
     "text": [
      "2.74 µs ± 24.8 ns per loop (mean ± std. dev. of 7 runs, 100,000 loops each)\n"
     ]
    }
   ],
   "source": [
    "%timeit spiral_order(matrix2)"
   ]
  }
 ],
 "metadata": {
  "kernelspec": {
   "display_name": "Python 3 (ipykernel)",
   "language": "python",
   "name": "python3"
  },
  "language_info": {
   "codemirror_mode": {
    "name": "ipython",
    "version": 3
   },
   "file_extension": ".py",
   "mimetype": "text/x-python",
   "name": "python",
   "nbconvert_exporter": "python",
   "pygments_lexer": "ipython3",
   "version": "3.9.12"
  }
 },
 "nbformat": 4,
 "nbformat_minor": 5
}
