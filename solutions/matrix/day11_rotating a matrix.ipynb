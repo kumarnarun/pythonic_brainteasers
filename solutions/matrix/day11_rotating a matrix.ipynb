{
 "cells": [
  {
   "cell_type": "markdown",
   "id": "264d6dce",
   "metadata": {},
   "source": [
    "## Challenge: Rotate an NxN matrix (2D array) 90 degrees clockwise."
   ]
  },
  {
   "cell_type": "markdown",
   "id": "07c29faa",
   "metadata": {},
   "source": [
    "## What is a matrix?"
   ]
  },
  {
   "cell_type": "markdown",
   "id": "3b47b75b",
   "metadata": {},
   "source": [
    "A matrix is often represented as a two-dimensional array. This two-dimensional array structure is used to store and manipulate data in a tabular format with rows and columns. Each element of the two-dimensional array represents a cell in the matrix."
   ]
  },
  {
   "cell_type": "markdown",
   "id": "f5c16e56",
   "metadata": {},
   "source": [
    "## Input"
   ]
  },
  {
   "cell_type": "code",
   "execution_count": 3,
   "id": "84e68cb0",
   "metadata": {},
   "outputs": [],
   "source": [
    "matrix1 =[\n",
    "    [1, 2, 3],\n",
    "    [4, 5, 6],\n",
    "    [7, 8, 9]\n",
    "]\n",
    "\n",
    "\n",
    "# After rotating 90 degrees clockwise, it should become:\n",
    "\n",
    "# expected_output1 = \n",
    "# [\n",
    "#   [7, 4, 1],\n",
    "#   [8, 5, 2],\n",
    "#   [9, 6, 3]\n",
    "# ]"
   ]
  },
  {
   "cell_type": "markdown",
   "id": "038dfa8a",
   "metadata": {},
   "source": [
    "## Traditional solution"
   ]
  },
  {
   "cell_type": "code",
   "execution_count": 1,
   "id": "49dea1a6",
   "metadata": {},
   "outputs": [],
   "source": [
    "def rotate(matrix):\n",
    "    n = len(matrix)\n",
    "\n",
    "    # Step 1: Transpose the matrix\n",
    "    \n",
    "    for i in range(n):\n",
    "        for j in range(i, n):\n",
    "            matrix[i][j], matrix[j][i] = matrix[j][i], matrix[i][j]\n",
    "\n",
    "    # Step 2: Reverse each row of the transposed matrix\n",
    "    \n",
    "    for i in range(n):\n",
    "        matrix[i].reverse()"
   ]
  },
  {
   "cell_type": "code",
   "execution_count": 4,
   "id": "ef8ef155",
   "metadata": {},
   "outputs": [],
   "source": [
    "rotate(matrix1)"
   ]
  },
  {
   "cell_type": "code",
   "execution_count": 6,
   "id": "34635010",
   "metadata": {},
   "outputs": [
    {
     "name": "stdout",
     "output_type": "stream",
     "text": [
      "[7, 4, 1]\n",
      "[8, 5, 2]\n",
      "[9, 6, 3]\n"
     ]
    }
   ],
   "source": [
    "for row in matrix1:\n",
    "    print(row)"
   ]
  },
  {
   "cell_type": "markdown",
   "id": "5dda5100",
   "metadata": {},
   "source": [
    "## Using Numpy"
   ]
  },
  {
   "cell_type": "markdown",
   "id": "47e3fd21",
   "metadata": {},
   "source": [
    "NumPy, short for \"Numerical Python,\" is a powerful Python library for numerical and scientific computing.\n",
    "\n",
    "It provides support for arrays, matrices, and a wide range of mathematical functions to work with these data structures efficiently."
   ]
  },
  {
   "cell_type": "code",
   "execution_count": 7,
   "id": "295b26dc",
   "metadata": {},
   "outputs": [],
   "source": [
    "import numpy as np\n",
    "\n",
    "def rotate_matrix_90_degrees(matrix):\n",
    "    # Convert the input list into a NumPy array\n",
    "    arr = np.array(matrix)\n",
    "\n",
    "    # Transpose the array to swap rows and columns\n",
    "    transposed = arr.transpose()\n",
    "\n",
    "    # Reverse each row to achieve the 90-degree clockwise rotation\n",
    "    rotated = np.flip(transposed, axis=1)\n",
    "\n",
    "    return rotated"
   ]
  },
  {
   "cell_type": "code",
   "execution_count": 8,
   "id": "289180b4",
   "metadata": {},
   "outputs": [
    {
     "name": "stdout",
     "output_type": "stream",
     "text": [
      "[[9 8 7]\n",
      " [6 5 4]\n",
      " [3 2 1]]\n"
     ]
    }
   ],
   "source": [
    "rotated_matrix = rotate_matrix_90_degrees(matrix1)\n",
    "print(rotated_matrix)"
   ]
  },
  {
   "cell_type": "code",
   "execution_count": 9,
   "id": "bc1941ff",
   "metadata": {},
   "outputs": [
    {
     "name": "stdout",
     "output_type": "stream",
     "text": [
      "1.95 µs ± 46.3 ns per loop (mean ± std. dev. of 7 runs, 100,000 loops each)\n"
     ]
    }
   ],
   "source": [
    "%timeit rotate(matrix1)"
   ]
  },
  {
   "cell_type": "code",
   "execution_count": 10,
   "id": "51f0c10c",
   "metadata": {},
   "outputs": [
    {
     "name": "stdout",
     "output_type": "stream",
     "text": [
      "4.94 µs ± 21 ns per loop (mean ± std. dev. of 7 runs, 100,000 loops each)\n"
     ]
    }
   ],
   "source": [
    "%timeit rotate_matrix_90_degrees(matrix1)"
   ]
  }
 ],
 "metadata": {
  "kernelspec": {
   "display_name": "Python 3 (ipykernel)",
   "language": "python",
   "name": "python3"
  },
  "language_info": {
   "codemirror_mode": {
    "name": "ipython",
    "version": 3
   },
   "file_extension": ".py",
   "mimetype": "text/x-python",
   "name": "python",
   "nbconvert_exporter": "python",
   "pygments_lexer": "ipython3",
   "version": "3.9.12"
  }
 },
 "nbformat": 4,
 "nbformat_minor": 5
}
