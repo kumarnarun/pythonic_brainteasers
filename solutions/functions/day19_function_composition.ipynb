{
 "cells": [
  {
   "cell_type": "markdown",
   "id": "e6d4cdc7",
   "metadata": {},
   "source": [
    "## Challenge: Write a Python program that takes a list of integers and applies a sequence of built-in functions (e.g., abs, sqrt, pow) to each element of the list using function composition."
   ]
  },
  {
   "cell_type": "markdown",
   "id": "15f1dcba",
   "metadata": {},
   "source": [
    "## What is a function composition?"
   ]
  },
  {
   "cell_type": "markdown",
   "id": "8943f2bc",
   "metadata": {},
   "source": [
    "Function composition is a mathematical and programming concept where you create a new function by combining two or more functions.\n",
    "\n",
    "In programming, function composition allows you to create complex operations by combining simpler functions.\n",
    "\n",
    "**some key points**\n",
    "\n",
    "**1.Order of Application:** When you compose two functions f and g, you apply g first to the input, and then you apply f to the result of g. This order matters, and it's typically denoted as (f ∘ g)(x).\n",
    "\n",
    "**2.Creating new functions:** Function composition creates a new function that encapsulates the combined behavior of the original functions.\n",
    "\n",
    "**3.Simplifying Complex Operations:**  Function composition is a way to simplify complex operations by breaking them down into smaller, reusable components.\n",
    "\n",
    "**4.Functional Programming:** Function composition is a fundamental concept in functional programming, where functions are treated as first-class citizens."
   ]
  },
  {
   "cell_type": "markdown",
   "id": "05538a7d",
   "metadata": {},
   "source": [
    "## Solution"
   ]
  },
  {
   "cell_type": "markdown",
   "id": "03214bfa",
   "metadata": {},
   "source": [
    "## Importing required libraries"
   ]
  },
  {
   "cell_type": "code",
   "execution_count": 4,
   "id": "e1b51294",
   "metadata": {},
   "outputs": [],
   "source": [
    "import math\n",
    "from functools import reduce"
   ]
  },
  {
   "cell_type": "markdown",
   "id": "869c1878",
   "metadata": {},
   "source": [
    "## Define a function for function composition"
   ]
  },
  {
   "cell_type": "code",
   "execution_count": 5,
   "id": "df3baeb0",
   "metadata": {},
   "outputs": [],
   "source": [
    "def compose(*functions):\n",
    "    def composition(result, func):\n",
    "        return func(result)\n",
    "    \n",
    "    return lambda x: reduce(composition, reversed(functions), x)"
   ]
  },
  {
   "cell_type": "markdown",
   "id": "400c1166",
   "metadata": {},
   "source": [
    "**Define a compose function:**\n",
    "\n",
    "The compose function takes a variable number of functions as arguments using the *functions syntax.\n",
    "\n",
    "It returns a new function that will apply these functions in sequence to an input value.\n",
    "\n",
    "Inside the compose function, we use functools.reduce to apply the functions in reverse order to the input value, effectively creating a composition of functions."
   ]
  },
  {
   "cell_type": "markdown",
   "id": "405e1047",
   "metadata": {},
   "source": [
    "## List of integers"
   ]
  },
  {
   "cell_type": "code",
   "execution_count": 6,
   "id": "d63f92a3",
   "metadata": {},
   "outputs": [],
   "source": [
    "numbers = [4, -9, 16]"
   ]
  },
  {
   "cell_type": "markdown",
   "id": "ae43b515",
   "metadata": {},
   "source": [
    "## Define the sequence of functions to apply"
   ]
  },
  {
   "cell_type": "code",
   "execution_count": 7,
   "id": "08154189",
   "metadata": {},
   "outputs": [],
   "source": [
    "sequence_of_functions = [abs, math.sqrt, lambda x: math.pow(x, 2)]"
   ]
  },
  {
   "cell_type": "markdown",
   "id": "9102bc39",
   "metadata": {},
   "source": [
    "**Define the sequence of functions:**\n",
    "\n",
    "We specify the sequence_of_functions list, which contains the functions abs, math.sqrt, and a lambda function using math.pow.\n",
    "\n",
    "This sequence defines the order in which the functions will be applied."
   ]
  },
  {
   "cell_type": "markdown",
   "id": "7109877f",
   "metadata": {},
   "source": [
    "## Apply the sequence of functions to each element in the list"
   ]
  },
  {
   "cell_type": "code",
   "execution_count": 8,
   "id": "90df5f5c",
   "metadata": {},
   "outputs": [
    {
     "data": {
      "text/plain": [
       "[4.0, 9.0, 16.0]"
      ]
     },
     "execution_count": 8,
     "metadata": {},
     "output_type": "execute_result"
    }
   ],
   "source": [
    "result = [compose(*sequence_of_functions)(x) for x in numbers]\n",
    "result"
   ]
  },
  {
   "cell_type": "markdown",
   "id": "8888aed2",
   "metadata": {},
   "source": [
    "**Apply the sequence of functions to each element in the list:**\n",
    "\n",
    "We use a list comprehension to iterate through each integer in the numbers list.\n",
    "\n",
    "For each integer x, we create a composed function using compose(*sequence_of_functions)(x) that applies the sequence of functions to x.\n",
    "\n",
    "The result is a list of transformed values."
   ]
  }
 ],
 "metadata": {
  "kernelspec": {
   "display_name": "Python 3 (ipykernel)",
   "language": "python",
   "name": "python3"
  },
  "language_info": {
   "codemirror_mode": {
    "name": "ipython",
    "version": 3
   },
   "file_extension": ".py",
   "mimetype": "text/x-python",
   "name": "python",
   "nbconvert_exporter": "python",
   "pygments_lexer": "ipython3",
   "version": "3.9.12"
  }
 },
 "nbformat": 4,
 "nbformat_minor": 5
}
