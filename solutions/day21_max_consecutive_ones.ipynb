{
 "cells": [
  {
   "cell_type": "markdown",
   "id": "a0c9a983",
   "metadata": {},
   "source": [
    "## Challenge: Given a binary array (containing only 0s and 1s), find the maximum number of consecutive 1s.\n"
   ]
  },
  {
   "cell_type": "markdown",
   "id": "8a5e0135",
   "metadata": {},
   "source": [
    "## Solution"
   ]
  },
  {
   "cell_type": "code",
   "execution_count": 1,
   "id": "0b7c2155",
   "metadata": {},
   "outputs": [],
   "source": [
    "def findMaxConsecutiveOnes(nums):\n",
    "    max_count = 0  # Variable to store the maximum consecutive count\n",
    "    current_count = 0  # Variable to store the current consecutive count\n",
    "\n",
    "    for num in nums:\n",
    "        if num == 1:\n",
    "            current_count += 1\n",
    "            max_count = max(max_count, current_count)\n",
    "        else:\n",
    "            current_count = 0\n",
    "\n",
    "    return max_count"
   ]
  },
  {
   "cell_type": "markdown",
   "id": "84cb2583",
   "metadata": {},
   "source": [
    "## Defining a function"
   ]
  },
  {
   "cell_type": "markdown",
   "id": "d44a730f",
   "metadata": {},
   "source": [
    "We define a function called **findMaxConsecutiveOnes** that takes a binary array **nums** as input."
   ]
  },
  {
   "cell_type": "markdown",
   "id": "ab72f1ce",
   "metadata": {},
   "source": [
    "## Initializing variables"
   ]
  },
  {
   "cell_type": "markdown",
   "id": "4aee0fea",
   "metadata": {},
   "source": [
    "Inside the function, we initialize two variables:\n",
    "\n",
    "**max_count** to store the maximum consecutive count of 1s.\n",
    "\n",
    "**current_count** to keep track of the current consecutive count of 1s as we iterate through the array."
   ]
  },
  {
   "cell_type": "markdown",
   "id": "15669c75",
   "metadata": {},
   "source": [
    "## Iteration"
   ]
  },
  {
   "cell_type": "markdown",
   "id": "8e0638cd",
   "metadata": {},
   "source": [
    "We use a **for loop** to iterate through each element **num** in the input array **nums**"
   ]
  },
  {
   "cell_type": "markdown",
   "id": "856e80e3",
   "metadata": {},
   "source": [
    "## Applying conditions"
   ]
  },
  {
   "cell_type": "markdown",
   "id": "d5706a5f",
   "metadata": {},
   "source": [
    "Inside the loop, we check if the current element **num** is equal to 1. If it is, it means we have encountered a consecutive 1."
   ]
  },
  {
   "cell_type": "markdown",
   "id": "05452ebd",
   "metadata": {},
   "source": [
    "## Incrementation"
   ]
  },
  {
   "cell_type": "markdown",
   "id": "fd289270",
   "metadata": {},
   "source": [
    "If **num** is equal to 1, we:\n",
    "\n",
    "**Increment** the **current_count** by 1, indicating that we've found another consecutive 1.\n",
    "\n",
    "**Update** **max_count** to the maximum of its current value and **current_count**.\n",
    "\n",
    "This step ensures that we keep track of the maximum consecutive count encountered so far."
   ]
  },
  {
   "cell_type": "markdown",
   "id": "e04f63af",
   "metadata": {},
   "source": [
    "## If condition not satisfied"
   ]
  },
  {
   "cell_type": "markdown",
   "id": "3ce3e273",
   "metadata": {},
   "source": [
    "If **num** is not equal to 1 (i.e., it's 0), it means the consecutive sequence of 1s has ended. In this case, we reset **current_count** to 0 to start counting consecutive 1s again."
   ]
  },
  {
   "cell_type": "markdown",
   "id": "d38e1935",
   "metadata": {},
   "source": [
    "## Return the max_count"
   ]
  },
  {
   "cell_type": "markdown",
   "id": "a9ef4aa3",
   "metadata": {},
   "source": [
    "After iterating through the entire array, we return **max_count**, which holds the maximum consecutive count of 1s found in the binary array."
   ]
  },
  {
   "cell_type": "markdown",
   "id": "f0a4cd0e",
   "metadata": {},
   "source": [
    "## Test cases"
   ]
  },
  {
   "cell_type": "code",
   "execution_count": 2,
   "id": "c7670663",
   "metadata": {},
   "outputs": [
    {
     "data": {
      "text/plain": [
       "3"
      ]
     },
     "execution_count": 2,
     "metadata": {},
     "output_type": "execute_result"
    }
   ],
   "source": [
    "findMaxConsecutiveOnes([1,2,1,1,1,3,1,0])"
   ]
  },
  {
   "cell_type": "code",
   "execution_count": 3,
   "id": "6f286f4d",
   "metadata": {},
   "outputs": [
    {
     "data": {
      "text/plain": [
       "0"
      ]
     },
     "execution_count": 3,
     "metadata": {},
     "output_type": "execute_result"
    }
   ],
   "source": [
    "findMaxConsecutiveOnes([0, 0, 0, 0, 0])"
   ]
  },
  {
   "cell_type": "code",
   "execution_count": 4,
   "id": "6699d0f3",
   "metadata": {},
   "outputs": [
    {
     "data": {
      "text/plain": [
       "0"
      ]
     },
     "execution_count": 4,
     "metadata": {},
     "output_type": "execute_result"
    }
   ],
   "source": [
    "findMaxConsecutiveOnes([])"
   ]
  }
 ],
 "metadata": {
  "kernelspec": {
   "display_name": "Python 3 (ipykernel)",
   "language": "python",
   "name": "python3"
  },
  "language_info": {
   "codemirror_mode": {
    "name": "ipython",
    "version": 3
   },
   "file_extension": ".py",
   "mimetype": "text/x-python",
   "name": "python",
   "nbconvert_exporter": "python",
   "pygments_lexer": "ipython3",
   "version": "3.9.12"
  }
 },
 "nbformat": 4,
 "nbformat_minor": 5
}
