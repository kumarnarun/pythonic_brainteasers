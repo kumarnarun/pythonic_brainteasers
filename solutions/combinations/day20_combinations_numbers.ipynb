{
 "cells": [
  {
   "cell_type": "markdown",
   "id": "0973d1ba",
   "metadata": {},
   "source": [
    "## Challenge: Given a set of candidate numbers and a target sum, find all unique combinations of candidates that sum up to the target.\n"
   ]
  },
  {
   "cell_type": "markdown",
   "id": "a2d5303c",
   "metadata": {},
   "source": [
    "Input:\n",
    "\n",
    "candidates = [2, 3, 5]\n",
    "target = 8\n",
    "\n",
    "output:\n",
    "\n",
    "[\n",
    "[2, 2, 2, 2],\n",
    "[2, 3, 3],\n",
    "[3, 5]\n",
    "]"
   ]
  },
  {
   "cell_type": "markdown",
   "id": "b1d22653",
   "metadata": {},
   "source": [
    "## What are combinations?"
   ]
  },
  {
   "cell_type": "markdown",
   "id": "85a9a528",
   "metadata": {},
   "source": [
    "Combinations are a way to count or list all the different ways you can select a group of items from a larger set, without caring about the order in which you pick them"
   ]
  },
  {
   "cell_type": "markdown",
   "id": "b3710fd4",
   "metadata": {},
   "source": [
    "## Solution"
   ]
  },
  {
   "cell_type": "code",
   "execution_count": 1,
   "id": "0862cd6d",
   "metadata": {},
   "outputs": [],
   "source": [
    "def combinationSum(candidates, target):\n",
    "    def backtrack(start, target, path):\n",
    "        if target == 0:\n",
    "            combinations.append(path[:])\n",
    "            return\n",
    "        if target < 0:\n",
    "            return\n",
    "        for i in range(start, len(candidates)):\n",
    "            path.append(candidates[i])\n",
    "            backtrack(i, target - candidates[i], path)\n",
    "            path.pop()\n",
    "\n",
    "    combinations = []\n",
    "    candidates.sort()  # Sort the candidates to handle duplicates\n",
    "    backtrack(0, target, [])\n",
    "    return combinations"
   ]
  },
  {
   "cell_type": "markdown",
   "id": "e70de8ad",
   "metadata": {},
   "source": [
    "## code explanation"
   ]
  },
  {
   "cell_type": "markdown",
   "id": "5d4e86d7",
   "metadata": {},
   "source": [
    "## Function combinationSum"
   ]
  },
  {
   "cell_type": "markdown",
   "id": "b24bd183",
   "metadata": {},
   "source": [
    "**This function takes two parameters:** candidates, which is a list of candidate numbers, and target, which is the target sum we want to achieve using combinations of the candidate numbers."
   ]
  },
  {
   "cell_type": "markdown",
   "id": "ef0dee31",
   "metadata": {},
   "source": [
    "## Inner Function backtrack"
   ]
  },
  {
   "cell_type": "markdown",
   "id": "7cf0f371",
   "metadata": {},
   "source": [
    "This is a **recursive helper function** that explores combinations of candidate numbers to find valid solutions."
   ]
  },
  {
   "cell_type": "markdown",
   "id": "ec02ce72",
   "metadata": {},
   "source": [
    "## Inside the backtrack Function"
   ]
  },
  {
   "cell_type": "markdown",
   "id": "a93debdf",
   "metadata": {},
   "source": [
    "**The function has three base cases:**\n",
    "\n",
    "**If target becomes 0**, it means we have found a valid combination that sums up to the target. We append a copy of the path (current combination) to the combinations list.\n",
    "\n",
    "**If target becomes negative**, it means the current combination exceeds the target, so we backtrack and return.\n",
    "\n",
    "The function uses a loop starting from the start index to explore different candidates.\n",
    "\n",
    "\n",
    "**Inside the loop:**\n",
    "\n",
    "We add the current candidate (candidates[i]) to the path. This means we're considering this candidate as part of the current combination.\n",
    "\n",
    "We recursively call backtrack with the updated target (subtracting the candidate's value) and the updated path.\n",
    "\n",
    "After the recursive call, we remove the last element from the path (backtrack) to explore other possibilities. This is crucial to avoid duplication of combinations.\n"
   ]
  },
  {
   "cell_type": "markdown",
   "id": "c6b2d28e",
   "metadata": {},
   "source": [
    "## Before Calling backtrack"
   ]
  },
  {
   "cell_type": "markdown",
   "id": "d2bb7342",
   "metadata": {},
   "source": [
    "Before calling backtrack, we sort the candidates list using candidates.sort().\n",
    "\n",
    "Sorting helps handle duplicates and ensures that combinations are generated in non-decreasing order."
   ]
  },
  {
   "cell_type": "markdown",
   "id": "0d51f52d",
   "metadata": {},
   "source": [
    "## Executing the backtrack Function"
   ]
  },
  {
   "cell_type": "markdown",
   "id": "b775dc6c",
   "metadata": {},
   "source": [
    "We initially call backtrack(0, target, []), starting with the first candidate (index 0), the target value, and an empty path."
   ]
  },
  {
   "cell_type": "markdown",
   "id": "471102dd",
   "metadata": {},
   "source": [
    "## Result"
   ]
  },
  {
   "cell_type": "markdown",
   "id": "89613f81",
   "metadata": {},
   "source": [
    "The combinations list collects all the valid combinations that sum up to the target value."
   ]
  },
  {
   "cell_type": "markdown",
   "id": "13cbc64e",
   "metadata": {},
   "source": [
    "## Test cases"
   ]
  },
  {
   "cell_type": "code",
   "execution_count": 2,
   "id": "65397870",
   "metadata": {},
   "outputs": [],
   "source": [
    "candidates = [2, 3, 5]\n",
    "\n",
    "target = 8"
   ]
  },
  {
   "cell_type": "code",
   "execution_count": 3,
   "id": "151a9ba9",
   "metadata": {},
   "outputs": [
    {
     "data": {
      "text/plain": [
       "[[2, 2, 2, 2], [2, 3, 3], [3, 5]]"
      ]
     },
     "execution_count": 3,
     "metadata": {},
     "output_type": "execute_result"
    }
   ],
   "source": [
    "combinationSum(candidates,target)"
   ]
  },
  {
   "cell_type": "code",
   "execution_count": 5,
   "id": "5bd16cd9",
   "metadata": {},
   "outputs": [
    {
     "data": {
      "text/plain": [
       "[[2, 2, 3], [2, 5], [7]]"
      ]
     },
     "execution_count": 5,
     "metadata": {},
     "output_type": "execute_result"
    }
   ],
   "source": [
    "candidates = [2, 3, 5,7,9,6]\n",
    "target = 7\n",
    "combinationSum(candidates,target)"
   ]
  },
  {
   "cell_type": "markdown",
   "id": "d3bb4726",
   "metadata": {},
   "source": [
    "## Time"
   ]
  },
  {
   "cell_type": "code",
   "execution_count": 4,
   "id": "d0351821",
   "metadata": {},
   "outputs": [
    {
     "name": "stdout",
     "output_type": "stream",
     "text": [
      "8.97 µs ± 33.3 ns per loop (mean ± std. dev. of 7 runs, 100,000 loops each)\n"
     ]
    }
   ],
   "source": [
    "%timeit combinationSum(candidates,target)"
   ]
  }
 ],
 "metadata": {
  "kernelspec": {
   "display_name": "Python 3 (ipykernel)",
   "language": "python",
   "name": "python3"
  },
  "language_info": {
   "codemirror_mode": {
    "name": "ipython",
    "version": 3
   },
   "file_extension": ".py",
   "mimetype": "text/x-python",
   "name": "python",
   "nbconvert_exporter": "python",
   "pygments_lexer": "ipython3",
   "version": "3.9.12"
  }
 },
 "nbformat": 4,
 "nbformat_minor": 5
}
