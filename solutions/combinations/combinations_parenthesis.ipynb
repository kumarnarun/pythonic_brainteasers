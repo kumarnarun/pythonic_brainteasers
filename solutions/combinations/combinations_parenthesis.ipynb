{
 "cells": [
  {
   "cell_type": "markdown",
   "id": "6bed77a2",
   "metadata": {},
   "source": [
    "## Challenge: Write a function that generates all possible combinations of n pairs of parentheses. For example, for n = 3, the function should return [\"((()))\",\"(()())\",\"(())()\",\"()(())\",\"()()()\"]."
   ]
  },
  {
   "cell_type": "markdown",
   "id": "b1d22653",
   "metadata": {},
   "source": [
    "## What are combinations?"
   ]
  },
  {
   "cell_type": "markdown",
   "id": "85a9a528",
   "metadata": {},
   "source": [
    "Combinations are a way to count or list all the different ways you can select a group of items from a larger set, without caring about the order in which you pick them"
   ]
  },
  {
   "cell_type": "code",
   "execution_count": 1,
   "id": "5d59feec",
   "metadata": {},
   "outputs": [],
   "source": [
    "def generateParenthesis(n):\n",
    "    def generate(p, left, right, parens=[]):\n",
    "        if left:         generate(p + '(', left-1, right)\n",
    "        if right > left: generate(p + ')', left, right-1)\n",
    "        if not right:    parens += p,\n",
    "        return parens\n",
    "    return generate('', n, n)"
   ]
  },
  {
   "cell_type": "markdown",
   "id": "21df29ea",
   "metadata": {},
   "source": [
    "## What is happening in this code?"
   ]
  },
  {
   "cell_type": "markdown",
   "id": "56ce6b73",
   "metadata": {},
   "source": [
    "**generateParenthesis Function:**\n",
    "\n",
    "This is the main function that generates all valid combinations of n pairs of parentheses. It takes a single argument n, representing the number of pairs of parentheses to generate.\n",
    "\n",
    "**Nested Function - generate:**\n",
    "\n",
    "Inside the generateParenthesis function, there is a nested function named generate. This nested function is a recursive helper function responsible for generating valid combinations.\n",
    "\n",
    "**Recursion:**\n",
    "\n",
    "Recursion is a programming technique where a function calls itself to solve smaller instances of a problem. In this code, the generate function is called recursively to build valid combinations step by step.\n",
    "\n",
    "**Parameters of the generate Function:**\n",
    "\n",
    "p: This parameter represents the current partial combination being built.\n",
    "\n",
    "left: It tracks the count of remaining open parentheses that can be added.\n",
    "\n",
    "right: It tracks the count of remaining close parentheses that can be added.\n",
    "\n",
    "parens: This is a list used to collect valid combinations.\n",
    "\n",
    "**Conditional Statements (if statements):**\n",
    "\n",
    "The generate function uses conditional statements (if statements) to determine whether to add an open parenthesis '(', a close parenthesis ')', or complete a valid combination.\n",
    "\n",
    "**Adding Open Parenthesis:**\n",
    "\n",
    "If there are remaining open parentheses (left > 0), the generate function adds an open parenthesis to the current combination p.\n",
    "\n",
    "**Adding Close Parenthesis:**\n",
    "\n",
    "If there are more remaining close parentheses than open parentheses (right > left), the generate function adds a close parenthesis to the current combination p.\n",
    "\n",
    "**Completing a Valid Combination:**\n",
    "\n",
    "When there are no more remaining right parentheses (not right), it means a valid combination has been formed. In this case, the current combination p is added to the parens list.\n",
    "\n",
    "**Returning Valid Combinations:**\n",
    "\n",
    "The generate function returns the parens list, which collects all valid combinations generated during the recursion."
   ]
  },
  {
   "cell_type": "markdown",
   "id": "9e0b063d",
   "metadata": {},
   "source": [
    "## Call the function"
   ]
  },
  {
   "cell_type": "code",
   "execution_count": 2,
   "id": "b5783706",
   "metadata": {},
   "outputs": [
    {
     "data": {
      "text/plain": [
       "['((()))', '(()())', '(())()', '()(())', '()()()']"
      ]
     },
     "execution_count": 2,
     "metadata": {},
     "output_type": "execute_result"
    }
   ],
   "source": [
    "generateParenthesis(3)"
   ]
  },
  {
   "cell_type": "code",
   "execution_count": 3,
   "id": "6de6c8ab",
   "metadata": {
    "scrolled": true
   },
   "outputs": [
    {
     "data": {
      "text/plain": [
       "['(((())))',\n",
       " '((()()))',\n",
       " '((())())',\n",
       " '((()))()',\n",
       " '(()(()))',\n",
       " '(()()())',\n",
       " '(()())()',\n",
       " '(())(())',\n",
       " '(())()()',\n",
       " '()((()))',\n",
       " '()(()())',\n",
       " '()(())()',\n",
       " '()()(())',\n",
       " '()()()()']"
      ]
     },
     "execution_count": 3,
     "metadata": {},
     "output_type": "execute_result"
    }
   ],
   "source": [
    "generateParenthesis(4)"
   ]
  },
  {
   "cell_type": "markdown",
   "id": "a969f19e",
   "metadata": {},
   "source": [
    "## Execution time"
   ]
  },
  {
   "cell_type": "code",
   "execution_count": 9,
   "id": "26d08dcd",
   "metadata": {},
   "outputs": [
    {
     "name": "stdout",
     "output_type": "stream",
     "text": [
      "5.03 µs ± 87.2 ns per loop (mean ± std. dev. of 7 runs, 100,000 loops each)\n"
     ]
    }
   ],
   "source": [
    "%timeit generateParenthesis(3)"
   ]
  },
  {
   "cell_type": "code",
   "execution_count": 10,
   "id": "16a046f5",
   "metadata": {},
   "outputs": [
    {
     "name": "stdout",
     "output_type": "stream",
     "text": [
      "13.9 µs ± 245 ns per loop (mean ± std. dev. of 7 runs, 100,000 loops each)\n"
     ]
    }
   ],
   "source": [
    "%timeit generateParenthesis(4)"
   ]
  }
 ],
 "metadata": {
  "kernelspec": {
   "display_name": "Python 3 (ipykernel)",
   "language": "python",
   "name": "python3"
  },
  "language_info": {
   "codemirror_mode": {
    "name": "ipython",
    "version": 3
   },
   "file_extension": ".py",
   "mimetype": "text/x-python",
   "name": "python",
   "nbconvert_exporter": "python",
   "pygments_lexer": "ipython3",
   "version": "3.9.12"
  }
 },
 "nbformat": 4,
 "nbformat_minor": 5
}
