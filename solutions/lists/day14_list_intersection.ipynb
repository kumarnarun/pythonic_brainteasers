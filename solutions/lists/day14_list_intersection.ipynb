{
 "cells": [
  {
   "cell_type": "markdown",
   "id": "f82526e7",
   "metadata": {},
   "source": [
    "## Write a function that takes two lists as input and returns a new list containing elements that are common to both input lists."
   ]
  },
  {
   "cell_type": "markdown",
   "id": "5f6548c3",
   "metadata": {},
   "source": [
    "## What is list intersection?"
   ]
  },
  {
   "cell_type": "markdown",
   "id": "992fadee",
   "metadata": {},
   "source": [
    "List intersection refers to the process of finding the common elements that exist in two or more lists. \n",
    "\n",
    "In other words, it identifies the elements that are present in both lists."
   ]
  },
  {
   "cell_type": "markdown",
   "id": "ab127a29",
   "metadata": {},
   "source": [
    "## Solution"
   ]
  },
  {
   "cell_type": "code",
   "execution_count": 1,
   "id": "0f12e32f",
   "metadata": {},
   "outputs": [],
   "source": [
    "def find_common_elements(list1, list2):\n",
    "    # Use set intersection to find common elements and convert the result back to a list\n",
    "    common_elements = list(set(list1).intersection(list2))\n",
    "    return common_elements"
   ]
  },
  {
   "cell_type": "markdown",
   "id": "0953a986",
   "metadata": {},
   "source": [
    "## Code explanation"
   ]
  },
  {
   "cell_type": "markdown",
   "id": "eb4748d6",
   "metadata": {},
   "source": [
    "**def find_common_elements(list1, list2):**\n",
    "\n",
    "This line defines the function find_common_elements with two parameters, list1 and list2, representing the input lists.\n",
    "\n",
    "    \n",
    "**common_elements = list(set(list1).intersection(list2))**\n",
    "\n",
    "**set(list1):** Converts list1 into a set. Sets are unordered collections of unique elements. Converting the list to a set removes any duplicate elements and ensures that each element is unique.\n",
    "\n",
    "**intersection(list2):** Calculates the intersection of the two sets, which means it finds the elements that are common to both sets (list1 and list2).\n",
    "\n",
    "\n",
    "**list(...):** Converts the result of the intersection operation (which is a set) back into a list. This step is necessary because the function is expected to return a list.\n",
    "\n",
    "So, common_elements now contains a list of elements that are common to both list1 and list2.\n",
    "\n",
    "**return common_elements:**\n",
    "\n",
    "Finally, the function returns the common_elements list as its result."
   ]
  },
  {
   "cell_type": "markdown",
   "id": "4eae2f66",
   "metadata": {},
   "source": [
    "## Testing the function"
   ]
  },
  {
   "cell_type": "code",
   "execution_count": 6,
   "id": "dce84ddf",
   "metadata": {},
   "outputs": [],
   "source": [
    "list1 = [1, 2, 3, 4, 5]\n",
    "list2 = [3, 4, 5, 6, 7]"
   ]
  },
  {
   "cell_type": "code",
   "execution_count": 7,
   "id": "299b190f",
   "metadata": {},
   "outputs": [
    {
     "data": {
      "text/plain": [
       "[3, 4, 5]"
      ]
     },
     "execution_count": 7,
     "metadata": {},
     "output_type": "execute_result"
    }
   ],
   "source": [
    "find_common_elements(list1,list2)"
   ]
  },
  {
   "cell_type": "code",
   "execution_count": 8,
   "id": "c498ea53",
   "metadata": {},
   "outputs": [],
   "source": [
    "list3 = [1, \"apple\", 3.14, True, \"hello\"]\n",
    "list4 = [3.14, \"world\", False, \"apple\"]"
   ]
  },
  {
   "cell_type": "code",
   "execution_count": 9,
   "id": "647ca01c",
   "metadata": {},
   "outputs": [
    {
     "data": {
      "text/plain": [
       "[3.14, 'apple']"
      ]
     },
     "execution_count": 9,
     "metadata": {},
     "output_type": "execute_result"
    }
   ],
   "source": [
    "find_common_elements(list3,list4)"
   ]
  },
  {
   "cell_type": "markdown",
   "id": "95c7815d",
   "metadata": {},
   "source": [
    "## Time"
   ]
  },
  {
   "cell_type": "code",
   "execution_count": 10,
   "id": "a59ca9db",
   "metadata": {},
   "outputs": [
    {
     "name": "stdout",
     "output_type": "stream",
     "text": [
      "727 ns ± 33.5 ns per loop (mean ± std. dev. of 7 runs, 1,000,000 loops each)\n"
     ]
    }
   ],
   "source": [
    "%timeit find_common_elements(list1,list2)"
   ]
  },
  {
   "cell_type": "code",
   "execution_count": 11,
   "id": "a07bbe86",
   "metadata": {},
   "outputs": [
    {
     "name": "stdout",
     "output_type": "stream",
     "text": [
      "720 ns ± 13.5 ns per loop (mean ± std. dev. of 7 runs, 1,000,000 loops each)\n"
     ]
    }
   ],
   "source": [
    "%timeit find_common_elements(list3,list4)"
   ]
  }
 ],
 "metadata": {
  "kernelspec": {
   "display_name": "Python 3 (ipykernel)",
   "language": "python",
   "name": "python3"
  },
  "language_info": {
   "codemirror_mode": {
    "name": "ipython",
    "version": 3
   },
   "file_extension": ".py",
   "mimetype": "text/x-python",
   "name": "python",
   "nbconvert_exporter": "python",
   "pygments_lexer": "ipython3",
   "version": "3.9.12"
  }
 },
 "nbformat": 4,
 "nbformat_minor": 5
}
