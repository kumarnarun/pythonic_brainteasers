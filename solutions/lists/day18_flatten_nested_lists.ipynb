{
 "cells": [
  {
   "cell_type": "markdown",
   "id": "6b2cec74",
   "metadata": {},
   "source": [
    "## Challenge: Create a program that flattens a list of nested lists using list comprehension."
   ]
  },
  {
   "cell_type": "markdown",
   "id": "07c9cef7",
   "metadata": {},
   "source": [
    "For example, given [[1, 2, 3], [4, 5], [6], [7, 8]], the program should return [1, 2, 3, 4, 5, 6, 7, 8]."
   ]
  },
  {
   "cell_type": "markdown",
   "id": "d5a6e943",
   "metadata": {},
   "source": [
    "## List comprehension"
   ]
  },
  {
   "cell_type": "markdown",
   "id": "d280fcbf",
   "metadata": {},
   "source": [
    "List comprehension is a concise and readable way to create lists in Python.\n",
    "\n",
    "It allows you to generate a new list by applying an expression to each item in an existing iterable (e.g., a list, tuple, or range) while optionally filtering elements based on a condition."
   ]
  },
  {
   "cell_type": "markdown",
   "id": "66b8239c",
   "metadata": {},
   "source": [
    "## Basic syntax"
   ]
  },
  {
   "cell_type": "markdown",
   "id": "b08e0f58",
   "metadata": {},
   "source": [
    "new_list = [expression for item in iterable if condition]"
   ]
  },
  {
   "cell_type": "markdown",
   "id": "83098b05",
   "metadata": {},
   "source": [
    "## Solution"
   ]
  },
  {
   "cell_type": "markdown",
   "id": "730b79e1",
   "metadata": {},
   "source": [
    "## Input list with nested lists"
   ]
  },
  {
   "cell_type": "code",
   "execution_count": 1,
   "id": "d6fa2420",
   "metadata": {},
   "outputs": [],
   "source": [
    "nested_list = [[1, 2, 3], [4, 5], [6], [7, 8]]"
   ]
  },
  {
   "cell_type": "markdown",
   "id": "e1045641",
   "metadata": {},
   "source": [
    "## Use list comprehension to flatten the nested list"
   ]
  },
  {
   "cell_type": "code",
   "execution_count": 2,
   "id": "39c39a7f",
   "metadata": {},
   "outputs": [],
   "source": [
    "flattened_list = [element for sublist in nested_list for element in sublist]"
   ]
  },
  {
   "cell_type": "markdown",
   "id": "214b1020",
   "metadata": {},
   "source": [
    "The list comprehension [element for sublist in nested_list for element in sublist] iterates through each sublist in the nested_list and then iterates through each element in the sublist, effectively flattening the nested structure."
   ]
  },
  {
   "cell_type": "code",
   "execution_count": 3,
   "id": "23f54edc",
   "metadata": {},
   "outputs": [
    {
     "data": {
      "text/plain": [
       "[1, 2, 3, 4, 5, 6, 7, 8]"
      ]
     },
     "execution_count": 3,
     "metadata": {},
     "output_type": "execute_result"
    }
   ],
   "source": [
    "flattened_list"
   ]
  },
  {
   "cell_type": "markdown",
   "id": "26f1bef4",
   "metadata": {},
   "source": [
    "## Time"
   ]
  },
  {
   "cell_type": "code",
   "execution_count": 4,
   "id": "23c34613",
   "metadata": {},
   "outputs": [
    {
     "name": "stdout",
     "output_type": "stream",
     "text": [
      "618 ns ± 24.2 ns per loop (mean ± std. dev. of 7 runs, 1,000,000 loops each)\n"
     ]
    }
   ],
   "source": [
    "%timeit flattened_list = [element for sublist in nested_list for element in sublist]"
   ]
  }
 ],
 "metadata": {
  "kernelspec": {
   "display_name": "Python 3 (ipykernel)",
   "language": "python",
   "name": "python3"
  },
  "language_info": {
   "codemirror_mode": {
    "name": "ipython",
    "version": 3
   },
   "file_extension": ".py",
   "mimetype": "text/x-python",
   "name": "python",
   "nbconvert_exporter": "python",
   "pygments_lexer": "ipython3",
   "version": "3.9.12"
  }
 },
 "nbformat": 4,
 "nbformat_minor": 5
}
