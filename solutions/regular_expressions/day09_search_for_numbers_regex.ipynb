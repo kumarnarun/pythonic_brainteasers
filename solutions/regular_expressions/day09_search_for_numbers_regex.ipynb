{
 "cells": [
  {
   "cell_type": "markdown",
   "id": "09d8e93c",
   "metadata": {},
   "source": [
    "## Challenge: Write a Python program to search for numbers (0-9) of length between 1 and 3 in a given string."
   ]
  },
  {
   "cell_type": "markdown",
   "id": "0f40f039",
   "metadata": {},
   "source": [
    "## Regular_expressions"
   ]
  },
  {
   "cell_type": "markdown",
   "id": "f782230c",
   "metadata": {},
   "source": [
    "Regular expressions, often referred to as regex or regexp, are powerful tools for pattern matching and text manipulation.\n",
    "\n",
    "They provide a concise and flexible way to search, match, and extract data from text strings based on specific patterns."
   ]
  },
  {
   "cell_type": "markdown",
   "id": "abf57d1b",
   "metadata": {},
   "source": [
    "## Key concepts or words in regex"
   ]
  },
  {
   "cell_type": "markdown",
   "id": "22c31cee",
   "metadata": {},
   "source": [
    "1.**Patterns:** sequences of characters that define a search criteria.\n",
    "\n",
    "2.**Metacharacters:** special characters with reserved meanings in regex.\n",
    "\n",
    "3.**Character Classes:** specify a set of characters to match. For example, [aeiou] matches any vowel, and [^0-9] matches any non-digit character.\n",
    "\n",
    "4.**Anchors:** specify the position of a match within a string.\n",
    "\n",
    "5.**Quantifiers:** specify how many times a preceding element should be matched.(*,+,{n},{n,m}).\n",
    "\n",
    "6.**Groups and capturing:**  create groups within a regex pattern.\n",
    "\n",
    "7.**Alternation:** The pipe | symbol is used for alternation, allowing you to match one of several alternatives.\n",
    "\n",
    "8.**Modifiers:** added to a regex pattern to change its behavior.\n",
    "\n",
    "9.**Greedy vs Non-greedy:** Quantifiers like * and + are greedy by default, matching as much as possible. Adding ? after a quantifier makes it non-greedy, matching as little as possible.\n",
    "\n",
    "10.**Escape sequences:** Some characters need to be escaped using a backslash \\ to be treated as literals in a regex pattern.\n",
    "\n",
    "11.**Validation and Extraction:** Regular expressions are commonly used for tasks like data validation (e.g., email or phone number validation) and data extraction (e.g., extracting URLs from text).\n",
    "\n",
    "12.**Tools:** Common libraries and functions (e.g., Python's re module) allow you to work with regex."
   ]
  },
  {
   "cell_type": "markdown",
   "id": "d3003615",
   "metadata": {},
   "source": [
    "## Solution"
   ]
  },
  {
   "cell_type": "markdown",
   "id": "cc39420d",
   "metadata": {},
   "source": [
    "## Importing regex module"
   ]
  },
  {
   "cell_type": "code",
   "execution_count": 1,
   "id": "d9b9aafb",
   "metadata": {},
   "outputs": [],
   "source": [
    "import re"
   ]
  },
  {
   "cell_type": "code",
   "execution_count": 2,
   "id": "823373e6",
   "metadata": {},
   "outputs": [],
   "source": [
    "input_string = \"The price is $25.99, and the discount is 10%.\""
   ]
  },
  {
   "cell_type": "code",
   "execution_count": 7,
   "id": "972b9923",
   "metadata": {},
   "outputs": [],
   "source": [
    "def find_numbers_in_string(input_string):\n",
    "    # Use a regular expression to find numbers of length 1 to 3\n",
    "    pattern = r'\\b\\d{1,3}\\b'  # \\b for word boundary, \\d for digits, {1,3} for 1 to 3 occurrences\n",
    "    \n",
    "    matches = re.findall(pattern, input_string)\n",
    "    \n",
    "    # Convert the matched strings to integers\n",
    "    numbers = [int(match) for match in matches]\n",
    "    \n",
    "    return numbers"
   ]
  },
  {
   "cell_type": "code",
   "execution_count": 8,
   "id": "d6a18829",
   "metadata": {},
   "outputs": [
    {
     "data": {
      "text/plain": [
       "[25, 99, 10]"
      ]
     },
     "execution_count": 8,
     "metadata": {},
     "output_type": "execute_result"
    }
   ],
   "source": [
    "find_numbers_in_string(input_string)"
   ]
  },
  {
   "cell_type": "markdown",
   "id": "bccdd78a",
   "metadata": {},
   "source": [
    "## Run time check"
   ]
  },
  {
   "cell_type": "code",
   "execution_count": 9,
   "id": "01a6afd9",
   "metadata": {},
   "outputs": [
    {
     "name": "stdout",
     "output_type": "stream",
     "text": [
      "2.84 µs ± 27.5 ns per loop (mean ± std. dev. of 7 runs, 100,000 loops each)\n"
     ]
    }
   ],
   "source": [
    "%timeit find_numbers_in_string(input_string)"
   ]
  }
 ],
 "metadata": {
  "kernelspec": {
   "display_name": "Python 3 (ipykernel)",
   "language": "python",
   "name": "python3"
  },
  "language_info": {
   "codemirror_mode": {
    "name": "ipython",
    "version": 3
   },
   "file_extension": ".py",
   "mimetype": "text/x-python",
   "name": "python",
   "nbconvert_exporter": "python",
   "pygments_lexer": "ipython3",
   "version": "3.9.12"
  }
 },
 "nbformat": 4,
 "nbformat_minor": 5
}
