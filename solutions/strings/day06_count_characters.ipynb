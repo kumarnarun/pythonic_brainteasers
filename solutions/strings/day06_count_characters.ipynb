{
 "cells": [
  {
   "cell_type": "markdown",
   "id": "4fbe8545",
   "metadata": {},
   "source": [
    "## Challenge: Write a Python program to count alphabets, digits and special characters in a string."
   ]
  },
  {
   "cell_type": "markdown",
   "id": "e45d72be",
   "metadata": {},
   "source": [
    "Case1: If the user inputs the string ‘%python123%$#’,\n",
    "the output should be, alphabets=5, digits=3, special characters=4.\n",
    "\n",
    "Case2: If the user inputs the string ‘!!quescollll151!!%&’,the output should be, alphabets=10, digits=3, special characters=6."
   ]
  },
  {
   "cell_type": "markdown",
   "id": "10e9d685",
   "metadata": {},
   "source": [
    "## Traditional method"
   ]
  },
  {
   "cell_type": "code",
   "execution_count": 1,
   "id": "2ba9d8e4",
   "metadata": {},
   "outputs": [
    {
     "name": "stdout",
     "output_type": "stream",
     "text": [
      "Enter a string: dgsshtgh64546*&^%%\n",
      "alphabets=8, digits=5, special characters=5\n"
     ]
    }
   ],
   "source": [
    "def count_characters(string):\n",
    "    # Initialize counters for alphabets, digits, and special characters.\n",
    "    alphabets_count = 0\n",
    "    digits_count = 0\n",
    "    special_characters_count = 0\n",
    "\n",
    "    # Iterate through each character in the input string.\n",
    "    for char in string:\n",
    "        if char.isalpha():\n",
    "            alphabets_count += 1\n",
    "        elif char.isdigit():\n",
    "            digits_count += 1\n",
    "        else:\n",
    "            special_characters_count += 1\n",
    "\n",
    "    # Print the counts.\n",
    "    print(f\"alphabets={alphabets_count}, digits={digits_count}, special characters={special_characters_count}\")\n",
    "\n",
    "# Get user input\n",
    "user_input = input(\"Enter a string: \")\n",
    "\n",
    "# Call the function to count characters\n",
    "count_characters(user_input)\n"
   ]
  },
  {
   "cell_type": "markdown",
   "id": "514dbf59",
   "metadata": {},
   "source": [
    "## Dictionary comprehension"
   ]
  },
  {
   "cell_type": "code",
   "execution_count": 2,
   "id": "7a07178a",
   "metadata": {},
   "outputs": [
    {
     "name": "stdout",
     "output_type": "stream",
     "text": [
      "Enter a string: fsdjghjks7864567546##$#$%$^\n",
      "alphabets=9, digits=10, special characters=8\n"
     ]
    }
   ],
   "source": [
    "s = input(\"Enter a string: \")\n",
    "counts = {\"alphabets\": sum(1 for char in s if char.isalpha()),\n",
    "          \"digits\": sum(1 for char in s if char.isdigit()),\n",
    "          \"special characters\": sum(1 for char in s if not char.isalnum())}\n",
    "print(\", \".join(f\"{key}={value}\" for key, value in counts.items()))\n"
   ]
  },
  {
   "cell_type": "markdown",
   "id": "5dd353dc",
   "metadata": {},
   "source": [
    "## Regular expressions"
   ]
  },
  {
   "cell_type": "code",
   "execution_count": 3,
   "id": "f9ee2aa1",
   "metadata": {},
   "outputs": [
    {
     "name": "stdout",
     "output_type": "stream",
     "text": [
      "Enter a string: fjdjksdghjkfh498798679*&%$^$$@\n",
      "alphabets=13, digits=9, special characters=8\n"
     ]
    }
   ],
   "source": [
    "import re\n",
    "\n",
    "def count_characters_with_regex(string):\n",
    "    alphabets_count = len(re.findall(r'[a-zA-Z]', string))\n",
    "    digits_count = len(re.findall(r'\\d', string))\n",
    "    special_characters_count = len(re.findall(r'[^\\w\\s]', string))\n",
    "\n",
    "    print(f\"alphabets={alphabets_count}, digits={digits_count}, special characters={special_characters_count}\")\n",
    "\n",
    "# Get user input\n",
    "user_input = input(\"Enter a string: \")\n",
    "\n",
    "# Call the function to count characters\n",
    "count_characters_with_regex(user_input)\n"
   ]
  }
 ],
 "metadata": {
  "kernelspec": {
   "display_name": "Python 3 (ipykernel)",
   "language": "python",
   "name": "python3"
  },
  "language_info": {
   "codemirror_mode": {
    "name": "ipython",
    "version": 3
   },
   "file_extension": ".py",
   "mimetype": "text/x-python",
   "name": "python",
   "nbconvert_exporter": "python",
   "pygments_lexer": "ipython3",
   "version": "3.9.12"
  }
 },
 "nbformat": 4,
 "nbformat_minor": 5
}
