{
 "cells": [
  {
   "cell_type": "markdown",
   "id": "dea1f095",
   "metadata": {},
   "source": [
    "## Challenge: Write a function to check if two strings are anagrams of each other (contain the same characters rearranged).\n"
   ]
  },
  {
   "cell_type": "markdown",
   "id": "ea9f9652",
   "metadata": {},
   "source": [
    "Examples:\n",
    "\n",
    "are_anagrams(\"listen\", \"silent\") == True\n",
    "\n",
    "are_anagrams(\"Triangle\", \"integral\") == True\n"
   ]
  },
  {
   "cell_type": "markdown",
   "id": "9b26fe9c",
   "metadata": {},
   "source": [
    "## What are anagrams?"
   ]
  },
  {
   "cell_type": "markdown",
   "id": "b854bdb2",
   "metadata": {},
   "source": [
    "Anagrams are words or phrases formed by rearranging the letters of another word or phrase, using all the original letters exactly once.\n",
    "\n",
    "Anagrams are created by changing the order of the characters in a word or phrase to produce a new word or phrase with the same set of letters."
   ]
  },
  {
   "cell_type": "markdown",
   "id": "6b399068",
   "metadata": {},
   "source": [
    "## Step by step process"
   ]
  },
  {
   "cell_type": "markdown",
   "id": "a21f3f88",
   "metadata": {},
   "source": [
    "\n",
    "**1.Remove spaces** and convert both strings to lowercase (or uppercase) to ensure case-insensitive comparison.\n",
    "\n",
    "**2.If the lengths of the two strings** are not the same, return False because they cannot be anagrams.\n",
    "\n",
    "**3.Create dictionaries (or arrays)** to count the frequency of each character in both strings.\n",
    "\n",
    "**4.Iterate through the characters** in the first string and update the character frequency count in the first dictionary.\n",
    "\n",
    "**5.Iterate through the characters** in the second string and update the character frequency count in the second dictionary.\n",
    "\n",
    "**6.After both strings have been processed**, compare the character frequency dictionaries (or arrays) to check if they are equal.\n",
    "\n",
    "**7.If the character frequency dictionaries are equal**, return True, indicating that the strings are anagrams. Otherwise, return False."
   ]
  },
  {
   "cell_type": "markdown",
   "id": "88efa962",
   "metadata": {},
   "source": [
    "## Solution"
   ]
  },
  {
   "cell_type": "code",
   "execution_count": 2,
   "id": "24a19b44",
   "metadata": {},
   "outputs": [],
   "source": [
    "def are_anagrams(str1, str2):\n",
    "    # Remove spaces and convert both strings to lowercase\n",
    "    str1 = str1.replace(\" \", \"\").lower()\n",
    "    str2 = str2.replace(\" \", \"\").lower()\n",
    "\n",
    "    # Check if the lengths of the strings are the same\n",
    "    if len(str1) != len(str2):\n",
    "        return False\n",
    "\n",
    "    # Create dictionaries to store character frequencies for both strings\n",
    "    char_count1 = {}\n",
    "    char_count2 = {}\n",
    "\n",
    "    # Count character frequencies in str1\n",
    "    for char in str1:\n",
    "        if char in char_count1:\n",
    "            char_count1[char] += 1\n",
    "        else:\n",
    "            char_count1[char] = 1\n",
    "\n",
    "    # Count character frequencies in str2\n",
    "    for char in str2:\n",
    "        if char in char_count2:\n",
    "            char_count2[char] += 1\n",
    "        else:\n",
    "            char_count2[char] = 1\n",
    "\n",
    "    # Compare the character frequencies in both dictionaries\n",
    "    return char_count1 == char_count2"
   ]
  },
  {
   "cell_type": "markdown",
   "id": "bb44fb12",
   "metadata": {},
   "source": [
    "## Test cases"
   ]
  },
  {
   "cell_type": "code",
   "execution_count": 3,
   "id": "dc551687",
   "metadata": {},
   "outputs": [
    {
     "data": {
      "text/plain": [
       "True"
      ]
     },
     "execution_count": 3,
     "metadata": {},
     "output_type": "execute_result"
    }
   ],
   "source": [
    "are_anagrams(\"listen\", \"silent\")"
   ]
  },
  {
   "cell_type": "code",
   "execution_count": 4,
   "id": "59a03389",
   "metadata": {},
   "outputs": [
    {
     "data": {
      "text/plain": [
       "True"
      ]
     },
     "execution_count": 4,
     "metadata": {},
     "output_type": "execute_result"
    }
   ],
   "source": [
    "are_anagrams(\"Astronomer\", \"Moon starer\")"
   ]
  },
  {
   "cell_type": "code",
   "execution_count": 5,
   "id": "3672dedc",
   "metadata": {},
   "outputs": [
    {
     "data": {
      "text/plain": [
       "True"
      ]
     },
     "execution_count": 5,
     "metadata": {},
     "output_type": "execute_result"
    }
   ],
   "source": [
    "are_anagrams(\"evil\", \"vile\")"
   ]
  },
  {
   "cell_type": "code",
   "execution_count": 6,
   "id": "3c6cf19e",
   "metadata": {},
   "outputs": [
    {
     "data": {
      "text/plain": [
       "False"
      ]
     },
     "execution_count": 6,
     "metadata": {},
     "output_type": "execute_result"
    }
   ],
   "source": [
    "are_anagrams(\"hello\", \"world\") "
   ]
  },
  {
   "cell_type": "markdown",
   "id": "7c4abe0e",
   "metadata": {},
   "source": [
    "## Time"
   ]
  },
  {
   "cell_type": "code",
   "execution_count": 8,
   "id": "0d93f473",
   "metadata": {},
   "outputs": [
    {
     "name": "stdout",
     "output_type": "stream",
     "text": [
      "2.53 µs ± 169 ns per loop (mean ± std. dev. of 7 runs, 100,000 loops each)\n"
     ]
    }
   ],
   "source": [
    "%timeit are_anagrams(\"Astronomer\", \"Moon starer\")"
   ]
  },
  {
   "cell_type": "code",
   "execution_count": 9,
   "id": "13cb4729",
   "metadata": {},
   "outputs": [
    {
     "name": "stdout",
     "output_type": "stream",
     "text": [
      "1.34 µs ± 58.5 ns per loop (mean ± std. dev. of 7 runs, 1,000,000 loops each)\n"
     ]
    }
   ],
   "source": [
    "%timeit are_anagrams(\"evil\", \"vile\")"
   ]
  },
  {
   "cell_type": "code",
   "execution_count": 10,
   "id": "4c2f1484",
   "metadata": {},
   "outputs": [
    {
     "name": "stdout",
     "output_type": "stream",
     "text": [
      "1.58 µs ± 29.5 ns per loop (mean ± std. dev. of 7 runs, 1,000,000 loops each)\n"
     ]
    }
   ],
   "source": [
    "%timeit are_anagrams(\"hello\", \"world\") "
   ]
  },
  {
   "cell_type": "code",
   "execution_count": 7,
   "id": "aa1f5597",
   "metadata": {},
   "outputs": [
    {
     "name": "stdout",
     "output_type": "stream",
     "text": [
      "1.6 µs ± 29 ns per loop (mean ± std. dev. of 7 runs, 1,000,000 loops each)\n"
     ]
    }
   ],
   "source": [
    "%timeit are_anagrams(\"listen\", \"silent\")"
   ]
  }
 ],
 "metadata": {
  "kernelspec": {
   "display_name": "Python 3 (ipykernel)",
   "language": "python",
   "name": "python3"
  },
  "language_info": {
   "codemirror_mode": {
    "name": "ipython",
    "version": 3
   },
   "file_extension": ".py",
   "mimetype": "text/x-python",
   "name": "python",
   "nbconvert_exporter": "python",
   "pygments_lexer": "ipython3",
   "version": "3.9.12"
  }
 },
 "nbformat": 4,
 "nbformat_minor": 5
}
