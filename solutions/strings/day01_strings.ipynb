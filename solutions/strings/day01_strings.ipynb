{
 "cells": [
  {
   "cell_type": "markdown",
   "id": "15ef464a",
   "metadata": {},
   "source": [
    "## Write a function in Python to check duplicate letters. It must accept a string, i.e., a sentence. \n",
    "\n",
    "## The function should return True if the sentence has any word with duplicate letters, else return False"
   ]
  },
  {
   "cell_type": "markdown",
   "id": "3a99c714",
   "metadata": {},
   "source": [
    "<span style=\"font-size: 16px; color: black;\">We can solve this problem in many ways.There is no perfect solution for any problem. We can do this by using basic python functions like list, loops,conditionals and string operations</span>"
   ]
  },
  {
   "cell_type": "code",
   "execution_count": 90,
   "id": "6d3b29a6",
   "metadata": {},
   "outputs": [],
   "source": [
    "def check_duplicate_letters(sentence):\n",
    "    # Split the sentence into words\n",
    "    words = sentence.split()\n",
    "    \n",
    "    # Iterate through each word in the sentence\n",
    "    for word in words:\n",
    "        # Create an empty list to store unique letters in the word\n",
    "        unique_letters = []\n",
    "        \n",
    "        # Iterate through each character in the word which is converted to lower case.\n",
    "        for char in word.lower():\n",
    "            # Check if the character is already in the list\n",
    "            if char in unique_letters:\n",
    "                return True  # Duplicate letter found\n",
    "            else:\n",
    "                unique_letters.append(char)  # Add the character to the list\n",
    "        \n",
    "    return False  # No duplicate letters found"
   ]
  },
  {
   "cell_type": "code",
   "execution_count": 81,
   "id": "57624e95",
   "metadata": {},
   "outputs": [
    {
     "data": {
      "text/plain": [
       "True"
      ]
     },
     "execution_count": 81,
     "metadata": {},
     "output_type": "execute_result"
    }
   ],
   "source": [
    "check_duplicate_letters('Arun is authentic')"
   ]
  },
  {
   "cell_type": "code",
   "execution_count": 93,
   "id": "2ba9b972",
   "metadata": {},
   "outputs": [
    {
     "data": {
      "text/plain": [
       "False"
      ]
     },
     "execution_count": 93,
     "metadata": {},
     "output_type": "execute_result"
    }
   ],
   "source": [
    "check_duplicate_letters('AruN')"
   ]
  },
  {
   "cell_type": "code",
   "execution_count": 83,
   "id": "0353931c",
   "metadata": {},
   "outputs": [
    {
     "data": {
      "text/plain": [
       "False"
      ]
     },
     "execution_count": 83,
     "metadata": {},
     "output_type": "execute_result"
    }
   ],
   "source": [
    "check_duplicate_letters('12345')"
   ]
  },
  {
   "cell_type": "code",
   "execution_count": 84,
   "id": "ac2fe650",
   "metadata": {},
   "outputs": [
    {
     "data": {
      "text/plain": [
       "True"
      ]
     },
     "execution_count": 84,
     "metadata": {},
     "output_type": "execute_result"
    }
   ],
   "source": [
    "check_duplicate_letters('arun123##')"
   ]
  },
  {
   "cell_type": "code",
   "execution_count": 91,
   "id": "3231ee32",
   "metadata": {},
   "outputs": [
    {
     "data": {
      "text/plain": [
       "True"
      ]
     },
     "execution_count": 91,
     "metadata": {},
     "output_type": "execute_result"
    }
   ],
   "source": [
    "check_duplicate_letters('ArUnkuma')"
   ]
  },
  {
   "cell_type": "markdown",
   "id": "c39c810e",
   "metadata": {},
   "source": [
    "## What we can learn from this code?"
   ]
  },
  {
   "cell_type": "markdown",
   "id": "559db696",
   "metadata": {},
   "source": [
    "<span style=\"font-size: 16px; color: black;\">For a begineer, there are so many things that can learnt from this code. If you are curious and ask questions like why?, how? whatif?, then you are on the right path. Ask as many questions as possible to a problem.In this problem, you can learn\n",
    "    \n",
    "    1. what are functions? why we are using functions?\n",
    "    2. what are iterations? why we have to that?\n",
    "    3. what are list?\n",
    "    4. what does a split() does?\n",
    "    5. what does append() do?\n",
    "    6. what a return function does?\n",
    "    \n",
    "</span>"
   ]
  },
  {
   "cell_type": "markdown",
   "id": "7eba444a",
   "metadata": {},
   "source": [
    "## How did I arrive at this solution?"
   ]
  },
  {
   "cell_type": "markdown",
   "id": "a55570ad",
   "metadata": {},
   "source": [
    "<span style=\"font-size: 16px; color: black;\">I wrote down the problem in my own words and ask questions like\n",
    "    \n",
    "    1. It may be sentence or a single word.\n",
    "    2. The duplicate letter may be in the single word or in the multiple words of a sentence\n",
    "    3. What if the input given as numbers.\n",
    "    4. What if the input given are combination of upper and lower cases.\n",
    "    5. what if the input is combination of upper,lower cases, numbers and special characters.\n",
    "    6. How can we iterate through strings?\n",
    "    7. How can apply conditions for those strings?\n",
    "</span>"
   ]
  },
  {
   "cell_type": "markdown",
   "id": "5a2aebe7",
   "metadata": {},
   "source": [
    "## Writing code is easy but what really important is understanding what really happening in the code"
   ]
  },
  {
   "cell_type": "markdown",
   "id": "5bcd51bd",
   "metadata": {},
   "source": [
    "## Other ways and key learnings"
   ]
  },
  {
   "cell_type": "markdown",
   "id": "2b0c3f27",
   "metadata": {},
   "source": [
    "<span style=\"font-size: 16px; color: black;\">\n",
    "    \n",
    "    1.Yeah we can use nested comprehension to finish the code in single line I thought of showing you the simplest possible way and efficient.\n",
    "    \n",
    "    2. we can use set() function instead of list and we get the job done\n",
    "    \n",
    "    3. sets consume more memory compared to lists due to the additional memory required for hashing and handling hash collisions.For smaller test cases we can use sets.\n",
    "    \n",
    "    4. when it comes to time set() performs better than list() set is implemented as a hash table while lists are implemented as dynamic arrays.\n",
    "    \n",
    "    5. When you want to check if an element is in a set, Python uses the same hash function to quickly compute the location and checks whether the element is there. This operation typically takes constant time on average, denoted as O(1)\n",
    "    \n",
    "    6.To check if an element is in a list, Python must iterate through the list from the beginning to the end, comparing each element to the target element.As a result, the list grows in size, the time taken is also increases linearly\n",
    "    \n",
    "    \n",
    "</span>"
   ]
  }
 ],
 "metadata": {
  "kernelspec": {
   "display_name": "Python 3 (ipykernel)",
   "language": "python",
   "name": "python3"
  },
  "language_info": {
   "codemirror_mode": {
    "name": "ipython",
    "version": 3
   },
   "file_extension": ".py",
   "mimetype": "text/x-python",
   "name": "python",
   "nbconvert_exporter": "python",
   "pygments_lexer": "ipython3",
   "version": "3.9.12"
  }
 },
 "nbformat": 4,
 "nbformat_minor": 5
}
