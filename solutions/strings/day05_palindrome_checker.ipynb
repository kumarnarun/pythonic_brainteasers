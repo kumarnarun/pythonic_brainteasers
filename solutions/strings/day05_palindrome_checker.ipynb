{
 "cells": [
  {
   "cell_type": "markdown",
   "id": "5f48654f",
   "metadata": {},
   "source": [
    "## Create a recursive function to check if a given string is a palindrome (reads the same forwards and backwards)."
   ]
  },
  {
   "cell_type": "markdown",
   "id": "029802da",
   "metadata": {},
   "source": [
    "what is a palindrome? A palindrome is a word, phrase, number, or sequence that reads the same forwards and backwards.\n",
    "\n",
    "Examples: 'racecar', 'deified', 'level', 121, 1331"
   ]
  },
  {
   "cell_type": "markdown",
   "id": "8310ca25",
   "metadata": {},
   "source": [
    "what is mean by recursion?\n",
    "\n",
    "1. Recursion is a programming technique where a function calls itself in order to solve a problem.\n",
    "\n",
    "2. In essence, recursion involves breaking a problem down into smaller, similar subproblems and solving them recursively until a base case is reached, at which point the solutions to the subproblems are combined to solve the original problem.\n",
    "\n",
    "3. Recursion is often used in algorithms and functions where the problem can be naturally divided into smaller, self-similar instances.\n"
   ]
  },
  {
   "cell_type": "markdown",
   "id": "d96359b5",
   "metadata": {},
   "source": [
    "## Solution"
   ]
  },
  {
   "cell_type": "code",
   "execution_count": 8,
   "id": "cc94d1be",
   "metadata": {},
   "outputs": [],
   "source": [
    "def is_palindrome(string):\n",
    "    # Base case: An empty string or a string with one character is a palindrome.\n",
    "    if len(string) <= 1:\n",
    "        return True\n",
    "    \n",
    "    # Compare the first and last characters of the string.\n",
    "    if string[0] != string[-1]:\n",
    "        return False  # If they are not the same, it's not a palindrome.\n",
    "    \n",
    "    # Recursive case: Check if the substring between the first and last characters is a palindrome.\n",
    "    return is_palindrome(string[1:-1])"
   ]
  },
  {
   "cell_type": "code",
   "execution_count": 9,
   "id": "1979daf3",
   "metadata": {},
   "outputs": [
    {
     "data": {
      "text/plain": [
       "True"
      ]
     },
     "execution_count": 9,
     "metadata": {},
     "output_type": "execute_result"
    }
   ],
   "source": [
    "is_palindrome('level')"
   ]
  },
  {
   "cell_type": "code",
   "execution_count": 10,
   "id": "7dc24129",
   "metadata": {},
   "outputs": [
    {
     "data": {
      "text/plain": [
       "True"
      ]
     },
     "execution_count": 10,
     "metadata": {},
     "output_type": "execute_result"
    }
   ],
   "source": [
    "is_palindrome('1331')"
   ]
  },
  {
   "cell_type": "code",
   "execution_count": 11,
   "id": "aa7a8c80",
   "metadata": {},
   "outputs": [
    {
     "name": "stdout",
     "output_type": "stream",
     "text": [
      "762 ns ± 10.1 ns per loop (mean ± std. dev. of 7 runs, 1,000,000 loops each)\n"
     ]
    }
   ],
   "source": [
    "%timeit is_palindrome('racecar')"
   ]
  }
 ],
 "metadata": {
  "kernelspec": {
   "display_name": "Python 3 (ipykernel)",
   "language": "python",
   "name": "python3"
  },
  "language_info": {
   "codemirror_mode": {
    "name": "ipython",
    "version": 3
   },
   "file_extension": ".py",
   "mimetype": "text/x-python",
   "name": "python",
   "nbconvert_exporter": "python",
   "pygments_lexer": "ipython3",
   "version": "3.9.12"
  }
 },
 "nbformat": 4,
 "nbformat_minor": 5
}
