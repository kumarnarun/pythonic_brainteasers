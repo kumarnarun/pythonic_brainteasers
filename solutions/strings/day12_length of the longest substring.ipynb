{
 "cells": [
  {
   "cell_type": "markdown",
   "id": "7d4ade9c",
   "metadata": {},
   "source": [
    "## Challenge: Find the length of the longest substring without repeating characters in a given string."
   ]
  },
  {
   "cell_type": "markdown",
   "id": "b01b5180",
   "metadata": {},
   "source": [
    "Example 1: \"abcabcbb\" => Length: 3 (The longest substring without repeating characters is \"abc\").\n",
    "\n",
    "\n",
    "Example 2:\"bbbbb\" => Length: 1 (The longest substring without repeating characters is \"b\").\n"
   ]
  },
  {
   "cell_type": "code",
   "execution_count": 1,
   "id": "c08b7283",
   "metadata": {},
   "outputs": [],
   "source": [
    "def length_of_longest_substring(s):\n",
    "    max_length = 0\n",
    "    start = 0\n",
    "    char_index_map = {}\n",
    "\n",
    "    for end, char in enumerate(s):\n",
    "        if char in char_index_map and char_index_map[char] >= start:\n",
    "            start = char_index_map[char] + 1\n",
    "        char_index_map[char] = end\n",
    "        max_length = max(max_length, end - start + 1)\n",
    "\n",
    "    return max_length"
   ]
  },
  {
   "cell_type": "markdown",
   "id": "4b427c83",
   "metadata": {},
   "source": [
    "**Function Definition:**\n",
    "\n",
    "def length_of_longest_substring(s):: This line defines a function named length_of_longest_substring that takes a single argument s, which is the input string.\n",
    "\n",
    "**Variable Initialization:**\n",
    "\n",
    "max_length = 0: This variable is used to store the length of the longest substring without repeating characters found so far. It is initialized to 0.\n",
    "start = 0: This variable represents the starting index of the current substring being considered.\n",
    "char_index_map = {}: This dictionary is used to store the indices of characters as they appear in the string s. The keys are characters, and the values are their respective indices.\n",
    "\n",
    "**For Loop:**\n",
    "\n",
    "for end, char in enumerate(s):: This for loop iterates through the characters of the input string s using the enumerate function, which provides both the character (char) and its index (end) in each iteration.\n",
    "\n",
    "**Checking for Repeating Characters:**\n",
    "\n",
    "if char in char_index_map and char_index_map[char] >= start:: \n",
    "\n",
    "This condition checks if the current character char is already present in the char_index_map dictionary and whether its index is greater than or equal to the start index. If both conditions are true, it means that the character is repeating within the current substring.\n",
    "\n",
    "start = char_index_map[char] + 1: \n",
    "\n",
    "If the character is repeating, the start index is updated to the index of the previous occurrence of the character (char_index_map[char]) plus 1. This effectively moves the starting point of the substring to the character immediately after the previous occurrence, eliminating the repeated character from the substring.\n",
    "\n",
    "**Updating Character Index:**\n",
    "\n",
    "char_index_map[char] = end: Regardless of whether the character is repeating or not, the char_index_map is updated with the current character char and its index end. This allows the code to keep track of the most recent occurrence of each character in the string.\n",
    "\n",
    "**Calculating Maximum Length:**\n",
    "\n",
    "max_length = max(max_length, end - start + 1): In each iteration, the code calculates the length of the current substring (from start to end) and updates max_length with the maximum length found so far.\n",
    "\n",
    "**Returning Maximum Length:**\n",
    "\n",
    "return max_length: Finally, the function returns the max_length, which represents the length of the longest substring without repeating characters."
   ]
  },
  {
   "cell_type": "code",
   "execution_count": 2,
   "id": "6dc6e0d3",
   "metadata": {},
   "outputs": [
    {
     "data": {
      "text/plain": [
       "3"
      ]
     },
     "execution_count": 2,
     "metadata": {},
     "output_type": "execute_result"
    }
   ],
   "source": [
    "length_of_longest_substring(\"abcabcbb\")"
   ]
  },
  {
   "cell_type": "code",
   "execution_count": 3,
   "id": "046c4c9b",
   "metadata": {},
   "outputs": [
    {
     "data": {
      "text/plain": [
       "1"
      ]
     },
     "execution_count": 3,
     "metadata": {},
     "output_type": "execute_result"
    }
   ],
   "source": [
    "length_of_longest_substring(\"bbbbb\")"
   ]
  },
  {
   "cell_type": "code",
   "execution_count": 4,
   "id": "320cf23f",
   "metadata": {},
   "outputs": [
    {
     "name": "stdout",
     "output_type": "stream",
     "text": [
      "3.09 µs ± 139 ns per loop (mean ± std. dev. of 7 runs, 100,000 loops each)\n"
     ]
    }
   ],
   "source": [
    "%timeit length_of_longest_substring(\"abcabcbb\")"
   ]
  }
 ],
 "metadata": {
  "kernelspec": {
   "display_name": "Python 3 (ipykernel)",
   "language": "python",
   "name": "python3"
  },
  "language_info": {
   "codemirror_mode": {
    "name": "ipython",
    "version": 3
   },
   "file_extension": ".py",
   "mimetype": "text/x-python",
   "name": "python",
   "nbconvert_exporter": "python",
   "pygments_lexer": "ipython3",
   "version": "3.9.12"
  }
 },
 "nbformat": 4,
 "nbformat_minor": 5
}
