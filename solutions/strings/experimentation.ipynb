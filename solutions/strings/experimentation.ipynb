{
 "cells": [
  {
   "cell_type": "code",
   "execution_count": 26,
   "id": "ca91dc06",
   "metadata": {},
   "outputs": [],
   "source": [
    "sentence = 'Arun is super cold'"
   ]
  },
  {
   "cell_type": "markdown",
   "id": "b1c2912d",
   "metadata": {},
   "source": [
    "## Nested comprehension"
   ]
  },
  {
   "cell_type": "code",
   "execution_count": 27,
   "id": "563d5095",
   "metadata": {},
   "outputs": [
    {
     "data": {
      "text/plain": [
       "False"
      ]
     },
     "execution_count": 27,
     "metadata": {},
     "output_type": "execute_result"
    }
   ],
   "source": [
    "True if any(True if any(char for char in word if word.count(char)>1) else False for word in sentence.split())else False"
   ]
  },
  {
   "cell_type": "code",
   "execution_count": 28,
   "id": "3c940734",
   "metadata": {},
   "outputs": [
    {
     "name": "stdout",
     "output_type": "stream",
     "text": [
      "3.88 µs ± 129 ns per loop (mean ± std. dev. of 7 runs, 100,000 loops each)\n"
     ]
    }
   ],
   "source": [
    "%timeit True if any(True if any(char for char in word if word.count(char)>1) else False for word in sentence.split())else False"
   ]
  },
  {
   "cell_type": "markdown",
   "id": "59ecdf39",
   "metadata": {},
   "source": [
    "## Simple function using set"
   ]
  },
  {
   "cell_type": "code",
   "execution_count": 33,
   "id": "d4cc7b9c",
   "metadata": {},
   "outputs": [],
   "source": [
    "def has_duplicate_letters_set(sentence):\n",
    "    # Split the sentence into words\n",
    "    words = sentence.split()\n",
    "    \n",
    "    # Iterate through each word in the sentence\n",
    "    for word in words:\n",
    "        # Create an empty set to store unique letters in the word\n",
    "        unique_letters = set()\n",
    "        \n",
    "        # Iterate through each character in the word\n",
    "        for char in word.lower():\n",
    "            # Check if the character is already in the set\n",
    "            if char in unique_letters:\n",
    "                return True  # Duplicate letter found\n",
    "            else:\n",
    "                unique_letters.add(char)  # Add the character to the set\n",
    "        \n",
    "    return False  # No duplicate letters found"
   ]
  },
  {
   "cell_type": "markdown",
   "id": "2152a7b6",
   "metadata": {},
   "source": [
    "## Simple function using list"
   ]
  },
  {
   "cell_type": "code",
   "execution_count": 34,
   "id": "839f3cf6",
   "metadata": {},
   "outputs": [],
   "source": [
    "def has_duplicate_letters_list(sentence):\n",
    "    # Split the sentence into words\n",
    "    words = sentence.split()\n",
    "    \n",
    "    # Iterate through each word in the sentence\n",
    "    for word in words:\n",
    "        # Create an empty set to store unique letters in the word\n",
    "        unique_letters = []\n",
    "        \n",
    "        # Iterate through each character in the word\n",
    "        for char in word.lower():\n",
    "            # Check if the character is already in the set\n",
    "            if char in unique_letters:\n",
    "                return True  # Duplicate letter found\n",
    "            else:\n",
    "                unique_letters.append(char)  # Add the character to the set\n",
    "        \n",
    "    return False  # No duplicate letters found"
   ]
  },
  {
   "cell_type": "code",
   "execution_count": 35,
   "id": "ca85bf83",
   "metadata": {},
   "outputs": [],
   "source": [
    "sentence1 = \"Jumpy fox quickly vexd brown dogs, lazily louging near the riverbank, chasing squirel, waltzing amidst ferns\""
   ]
  },
  {
   "cell_type": "code",
   "execution_count": 36,
   "id": "9f87e812",
   "metadata": {
    "scrolled": true
   },
   "outputs": [
    {
     "data": {
      "text/plain": [
       "False"
      ]
     },
     "execution_count": 36,
     "metadata": {},
     "output_type": "execute_result"
    }
   ],
   "source": [
    "has_duplicate_letters_set(sentence)"
   ]
  },
  {
   "cell_type": "code",
   "execution_count": 37,
   "id": "e1ea7b8b",
   "metadata": {},
   "outputs": [
    {
     "data": {
      "text/plain": [
       "False"
      ]
     },
     "execution_count": 37,
     "metadata": {},
     "output_type": "execute_result"
    }
   ],
   "source": [
    "has_duplicate_letters_list(sentence)"
   ]
  },
  {
   "cell_type": "markdown",
   "id": "7421c1c8",
   "metadata": {},
   "source": [
    "## set"
   ]
  },
  {
   "cell_type": "code",
   "execution_count": 38,
   "id": "20eb6818",
   "metadata": {},
   "outputs": [
    {
     "name": "stdout",
     "output_type": "stream",
     "text": [
      "2.17 µs ± 66 ns per loop (mean ± std. dev. of 7 runs, 100,000 loops each)\n"
     ]
    }
   ],
   "source": [
    "%timeit has_duplicate_letters_set(sentence)"
   ]
  },
  {
   "cell_type": "code",
   "execution_count": 39,
   "id": "62e820c3",
   "metadata": {},
   "outputs": [
    {
     "name": "stdout",
     "output_type": "stream",
     "text": [
      "4.64 µs ± 116 ns per loop (mean ± std. dev. of 7 runs, 100,000 loops each)\n"
     ]
    }
   ],
   "source": [
    "%timeit has_duplicate_letters_set(sentence1)"
   ]
  },
  {
   "cell_type": "markdown",
   "id": "c3c88d4c",
   "metadata": {},
   "source": [
    "## list"
   ]
  },
  {
   "cell_type": "code",
   "execution_count": 41,
   "id": "d42b027b",
   "metadata": {},
   "outputs": [
    {
     "name": "stdout",
     "output_type": "stream",
     "text": [
      "2.15 µs ± 45.7 ns per loop (mean ± std. dev. of 7 runs, 100,000 loops each)\n"
     ]
    }
   ],
   "source": [
    "%timeit has_duplicate_letters_list(sentence)"
   ]
  },
  {
   "cell_type": "code",
   "execution_count": 42,
   "id": "aecea03b",
   "metadata": {},
   "outputs": [
    {
     "name": "stdout",
     "output_type": "stream",
     "text": [
      "4.73 µs ± 128 ns per loop (mean ± std. dev. of 7 runs, 100,000 loops each)\n"
     ]
    }
   ],
   "source": [
    "%timeit has_duplicate_letters_list(sentence1)"
   ]
  }
 ],
 "metadata": {
  "kernelspec": {
   "display_name": "Python 3 (ipykernel)",
   "language": "python",
   "name": "python3"
  },
  "language_info": {
   "codemirror_mode": {
    "name": "ipython",
    "version": 3
   },
   "file_extension": ".py",
   "mimetype": "text/x-python",
   "name": "python",
   "nbconvert_exporter": "python",
   "pygments_lexer": "ipython3",
   "version": "3.9.12"
  }
 },
 "nbformat": 4,
 "nbformat_minor": 5
}
