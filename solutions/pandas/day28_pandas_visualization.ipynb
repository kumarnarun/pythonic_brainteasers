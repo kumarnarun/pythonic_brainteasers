{
 "cells": [
  {
   "cell_type": "markdown",
   "id": "640c2826",
   "metadata": {},
   "source": [
    "## Challenge: How can you create basic data visualizations using Pandas, e.g., line plots, bar plots, and histograms?"
   ]
  },
  {
   "cell_type": "markdown",
   "id": "daadd3b8",
   "metadata": {},
   "source": [
    "## Importing pandas library"
   ]
  },
  {
   "cell_type": "code",
   "execution_count": 2,
   "id": "9aba6119",
   "metadata": {},
   "outputs": [],
   "source": [
    "import pandas as pd"
   ]
  },
  {
   "cell_type": "markdown",
   "id": "06ff2898",
   "metadata": {},
   "source": [
    "## Reading my file"
   ]
  },
  {
   "cell_type": "code",
   "execution_count": 3,
   "id": "d6a18a79",
   "metadata": {
    "scrolled": true
   },
   "outputs": [
    {
     "data": {
      "text/html": [
       "<div>\n",
       "<style scoped>\n",
       "    .dataframe tbody tr th:only-of-type {\n",
       "        vertical-align: middle;\n",
       "    }\n",
       "\n",
       "    .dataframe tbody tr th {\n",
       "        vertical-align: top;\n",
       "    }\n",
       "\n",
       "    .dataframe thead th {\n",
       "        text-align: right;\n",
       "    }\n",
       "</style>\n",
       "<table border=\"1\" class=\"dataframe\">\n",
       "  <thead>\n",
       "    <tr style=\"text-align: right;\">\n",
       "      <th></th>\n",
       "      <th>date</th>\n",
       "      <th>admin1</th>\n",
       "      <th>admin2</th>\n",
       "      <th>market</th>\n",
       "      <th>price</th>\n",
       "      <th>usdprice</th>\n",
       "    </tr>\n",
       "  </thead>\n",
       "  <tbody>\n",
       "    <tr>\n",
       "      <th>0</th>\n",
       "      <td>2012-04-15</td>\n",
       "      <td>Tamil Nadu</td>\n",
       "      <td>Chennai</td>\n",
       "      <td>Chennai</td>\n",
       "      <td>18.78</td>\n",
       "      <td>0.36</td>\n",
       "    </tr>\n",
       "    <tr>\n",
       "      <th>1</th>\n",
       "      <td>2012-04-15</td>\n",
       "      <td>Tamil Nadu</td>\n",
       "      <td>Dindigul</td>\n",
       "      <td>Dindigul</td>\n",
       "      <td>21.61</td>\n",
       "      <td>0.42</td>\n",
       "    </tr>\n",
       "    <tr>\n",
       "      <th>2</th>\n",
       "      <td>2012-04-15</td>\n",
       "      <td>Tamil Nadu</td>\n",
       "      <td>Tiruchchirappalli</td>\n",
       "      <td>Thiruchirapalli</td>\n",
       "      <td>21.17</td>\n",
       "      <td>0.41</td>\n",
       "    </tr>\n",
       "    <tr>\n",
       "      <th>3</th>\n",
       "      <td>2012-07-15</td>\n",
       "      <td>Tamil Nadu</td>\n",
       "      <td>Chennai</td>\n",
       "      <td>Chennai</td>\n",
       "      <td>25.77</td>\n",
       "      <td>0.47</td>\n",
       "    </tr>\n",
       "    <tr>\n",
       "      <th>4</th>\n",
       "      <td>2012-07-15</td>\n",
       "      <td>Tamil Nadu</td>\n",
       "      <td>Dindigul</td>\n",
       "      <td>Dindigul</td>\n",
       "      <td>24.18</td>\n",
       "      <td>0.44</td>\n",
       "    </tr>\n",
       "  </tbody>\n",
       "</table>\n",
       "</div>"
      ],
      "text/plain": [
       "         date      admin1             admin2           market  price  usdprice\n",
       "0  2012-04-15  Tamil Nadu            Chennai          Chennai  18.78      0.36\n",
       "1  2012-04-15  Tamil Nadu           Dindigul         Dindigul  21.61      0.42\n",
       "2  2012-04-15  Tamil Nadu  Tiruchchirappalli  Thiruchirapalli  21.17      0.41\n",
       "3  2012-07-15  Tamil Nadu            Chennai          Chennai  25.77      0.47\n",
       "4  2012-07-15  Tamil Nadu           Dindigul         Dindigul  24.18      0.44"
      ]
     },
     "execution_count": 3,
     "metadata": {},
     "output_type": "execute_result"
    }
   ],
   "source": [
    "df = pd.read_csv('tn_tomato_price.csv')\n",
    "df.head()"
   ]
  },
  {
   "cell_type": "markdown",
   "id": "5c67e657",
   "metadata": {},
   "source": [
    "## Line plot"
   ]
  },
  {
   "cell_type": "markdown",
   "id": "24bdeb3a",
   "metadata": {},
   "source": [
    "## slicing the dataframe and getting only date and price column"
   ]
  },
  {
   "cell_type": "code",
   "execution_count": 4,
   "id": "238711f3",
   "metadata": {},
   "outputs": [],
   "source": [
    "df_price = df[['date','price']].set_index('date')"
   ]
  },
  {
   "cell_type": "code",
   "execution_count": 5,
   "id": "19d69440",
   "metadata": {
    "scrolled": true
   },
   "outputs": [
    {
     "data": {
      "text/html": [
       "<div>\n",
       "<style scoped>\n",
       "    .dataframe tbody tr th:only-of-type {\n",
       "        vertical-align: middle;\n",
       "    }\n",
       "\n",
       "    .dataframe tbody tr th {\n",
       "        vertical-align: top;\n",
       "    }\n",
       "\n",
       "    .dataframe thead th {\n",
       "        text-align: right;\n",
       "    }\n",
       "</style>\n",
       "<table border=\"1\" class=\"dataframe\">\n",
       "  <thead>\n",
       "    <tr style=\"text-align: right;\">\n",
       "      <th></th>\n",
       "      <th>price</th>\n",
       "    </tr>\n",
       "    <tr>\n",
       "      <th>date</th>\n",
       "      <th></th>\n",
       "    </tr>\n",
       "  </thead>\n",
       "  <tbody>\n",
       "    <tr>\n",
       "      <th>2012-04-15</th>\n",
       "      <td>18.78</td>\n",
       "    </tr>\n",
       "    <tr>\n",
       "      <th>2012-04-15</th>\n",
       "      <td>21.61</td>\n",
       "    </tr>\n",
       "    <tr>\n",
       "      <th>2012-04-15</th>\n",
       "      <td>21.17</td>\n",
       "    </tr>\n",
       "    <tr>\n",
       "      <th>2012-07-15</th>\n",
       "      <td>25.77</td>\n",
       "    </tr>\n",
       "    <tr>\n",
       "      <th>2012-07-15</th>\n",
       "      <td>24.18</td>\n",
       "    </tr>\n",
       "    <tr>\n",
       "      <th>...</th>\n",
       "      <td>...</td>\n",
       "    </tr>\n",
       "    <tr>\n",
       "      <th>2021-07-15</th>\n",
       "      <td>19.71</td>\n",
       "    </tr>\n",
       "    <tr>\n",
       "      <th>2021-07-15</th>\n",
       "      <td>23.92</td>\n",
       "    </tr>\n",
       "    <tr>\n",
       "      <th>2021-07-15</th>\n",
       "      <td>19.74</td>\n",
       "    </tr>\n",
       "    <tr>\n",
       "      <th>2021-07-15</th>\n",
       "      <td>20.30</td>\n",
       "    </tr>\n",
       "    <tr>\n",
       "      <th>2021-07-15</th>\n",
       "      <td>17.74</td>\n",
       "    </tr>\n",
       "  </tbody>\n",
       "</table>\n",
       "<p>362 rows × 1 columns</p>\n",
       "</div>"
      ],
      "text/plain": [
       "            price\n",
       "date             \n",
       "2012-04-15  18.78\n",
       "2012-04-15  21.61\n",
       "2012-04-15  21.17\n",
       "2012-07-15  25.77\n",
       "2012-07-15  24.18\n",
       "...           ...\n",
       "2021-07-15  19.71\n",
       "2021-07-15  23.92\n",
       "2021-07-15  19.74\n",
       "2021-07-15  20.30\n",
       "2021-07-15  17.74\n",
       "\n",
       "[362 rows x 1 columns]"
      ]
     },
     "execution_count": 5,
     "metadata": {},
     "output_type": "execute_result"
    }
   ],
   "source": [
    "df_price"
   ]
  },
  {
   "cell_type": "code",
   "execution_count": 18,
   "id": "b0fdf782",
   "metadata": {},
   "outputs": [
    {
     "data": {
      "text/plain": [
       "<AxesSubplot:title={'center':'TamilNadu Tomato Price Trend'}, xlabel='Date', ylabel='Price'>"
      ]
     },
     "execution_count": 18,
     "metadata": {},
     "output_type": "execute_result"
    },
    {
     "data": {
      "image/png": "[encoded data removed]",
      "text/plain": [
       "<Figure size 648x432 with 1 Axes>"
      ]
     },
     "metadata": {
      "needs_background": "light"
     },
     "output_type": "display_data"
    }
   ],
   "source": [
    "df_price.plot(figsize=(9,6),kind='line', title='TamilNadu Tomato Price Trend', xlabel='Date', ylabel='Price')"
   ]
  },
  {
   "cell_type": "markdown",
   "id": "fb6395fd",
   "metadata": {},
   "source": [
    "## Bar plot"
   ]
  },
  {
   "cell_type": "code",
   "execution_count": 22,
   "id": "3208c42f",
   "metadata": {},
   "outputs": [],
   "source": [
    "df_market_price = df[['market','price']].groupby('market').mean().sort_values(by = 'price',ascending = False)\n",
    "df_market_price.reset_index(inplace = True)"
   ]
  },
  {
   "cell_type": "code",
   "execution_count": 23,
   "id": "6c06cbd3",
   "metadata": {},
   "outputs": [
    {
     "data": {
      "text/html": [
       "<div>\n",
       "<style scoped>\n",
       "    .dataframe tbody tr th:only-of-type {\n",
       "        vertical-align: middle;\n",
       "    }\n",
       "\n",
       "    .dataframe tbody tr th {\n",
       "        vertical-align: top;\n",
       "    }\n",
       "\n",
       "    .dataframe thead th {\n",
       "        text-align: right;\n",
       "    }\n",
       "</style>\n",
       "<table border=\"1\" class=\"dataframe\">\n",
       "  <thead>\n",
       "    <tr style=\"text-align: right;\">\n",
       "      <th></th>\n",
       "      <th>market</th>\n",
       "      <th>price</th>\n",
       "    </tr>\n",
       "  </thead>\n",
       "  <tbody>\n",
       "    <tr>\n",
       "      <th>0</th>\n",
       "      <td>Ramanathapuram</td>\n",
       "      <td>23.658889</td>\n",
       "    </tr>\n",
       "    <tr>\n",
       "      <th>1</th>\n",
       "      <td>Chennai</td>\n",
       "      <td>22.851058</td>\n",
       "    </tr>\n",
       "    <tr>\n",
       "      <th>2</th>\n",
       "      <td>Dindigul</td>\n",
       "      <td>19.923168</td>\n",
       "    </tr>\n",
       "    <tr>\n",
       "      <th>3</th>\n",
       "      <td>Tirunelveli</td>\n",
       "      <td>18.978000</td>\n",
       "    </tr>\n",
       "    <tr>\n",
       "      <th>4</th>\n",
       "      <td>Thiruchirapalli</td>\n",
       "      <td>18.493571</td>\n",
       "    </tr>\n",
       "    <tr>\n",
       "      <th>5</th>\n",
       "      <td>Cuddalore</td>\n",
       "      <td>18.056000</td>\n",
       "    </tr>\n",
       "    <tr>\n",
       "      <th>6</th>\n",
       "      <td>Vellore</td>\n",
       "      <td>17.854000</td>\n",
       "    </tr>\n",
       "    <tr>\n",
       "      <th>7</th>\n",
       "      <td>Coimbatore</td>\n",
       "      <td>17.341000</td>\n",
       "    </tr>\n",
       "    <tr>\n",
       "      <th>8</th>\n",
       "      <td>Dharmapuri</td>\n",
       "      <td>14.574000</td>\n",
       "    </tr>\n",
       "  </tbody>\n",
       "</table>\n",
       "</div>"
      ],
      "text/plain": [
       "            market      price\n",
       "0   Ramanathapuram  23.658889\n",
       "1          Chennai  22.851058\n",
       "2         Dindigul  19.923168\n",
       "3      Tirunelveli  18.978000\n",
       "4  Thiruchirapalli  18.493571\n",
       "5        Cuddalore  18.056000\n",
       "6          Vellore  17.854000\n",
       "7       Coimbatore  17.341000\n",
       "8       Dharmapuri  14.574000"
      ]
     },
     "execution_count": 23,
     "metadata": {},
     "output_type": "execute_result"
    }
   ],
   "source": [
    "df_market_price"
   ]
  },
  {
   "cell_type": "code",
   "execution_count": 26,
   "id": "e868e131",
   "metadata": {},
   "outputs": [
    {
     "data": {
      "text/plain": [
       "<AxesSubplot:title={'center':'Average_tomato_price_in_various_markets_of_TN'}, xlabel='market', ylabel='average_price'>"
      ]
     },
     "execution_count": 26,
     "metadata": {},
     "output_type": "execute_result"
    },
    {
     "data": {
      "image/png": "[encoded data removed]",
      "text/plain": [
       "<Figure size 648x432 with 1 Axes>"
      ]
     },
     "metadata": {
      "needs_background": "light"
     },
     "output_type": "display_data"
    }
   ],
   "source": [
    "df_market_price.plot(figsize=(9,6),x='market', y='price', kind='bar', title='Average_tomato_price_in_various_markets_of_TN', xlabel='market', ylabel='average_price')"
   ]
  },
  {
   "cell_type": "markdown",
   "id": "1b48287a",
   "metadata": {},
   "source": [
    "## Histogram"
   ]
  },
  {
   "cell_type": "code",
   "execution_count": 31,
   "id": "41f10991",
   "metadata": {},
   "outputs": [
    {
     "data": {
      "text/plain": [
       "<AxesSubplot:title={'center':'price_distribution'}, ylabel='Frequency'>"
      ]
     },
     "execution_count": 31,
     "metadata": {},
     "output_type": "execute_result"
    },
    {
     "data": {
      "image/png": "[encoded data removed]",
      "text/plain": [
       "<Figure size 648x432 with 1 Axes>"
      ]
     },
     "metadata": {
      "needs_background": "light"
     },
     "output_type": "display_data"
    }
   ],
   "source": [
    "df['price'].plot(figsize=(9,6),kind='hist', bins=25, edgecolor='black', title='price_distribution', xlabel='price', ylabel='Frequency')"
   ]
  }
 ],
 "metadata": {
  "kernelspec": {
   "display_name": "Python 3 (ipykernel)",
   "language": "python",
   "name": "python3"
  },
  "language_info": {
   "codemirror_mode": {
    "name": "ipython",
    "version": 3
   },
   "file_extension": ".py",
   "mimetype": "text/x-python",
   "name": "python",
   "nbconvert_exporter": "python",
   "pygments_lexer": "ipython3",
   "version": "3.9.12"
  }
 },
 "nbformat": 4,
 "nbformat_minor": 5
}
