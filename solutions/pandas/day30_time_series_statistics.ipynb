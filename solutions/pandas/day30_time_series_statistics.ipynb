{
 "cells": [
  {
   "cell_type": "markdown",
   "id": "975b2680",
   "metadata": {},
   "source": [
    "## Challenge: Calculate rolling statistics, such as rolling mean or rolling standard deviation, for a time series."
   ]
  },
  {
   "cell_type": "markdown",
   "id": "3328ce11",
   "metadata": {},
   "source": [
    "## Purpose of rolling function"
   ]
  },
  {
   "cell_type": "markdown",
   "id": "8912ade7",
   "metadata": {},
   "source": [
    "The primary purpose of the rolling() function is to analyze trends, patterns, and variations in your time series data. \n",
    "\n",
    "By specifying a window size, you define the number of data points to include in each calculation. The window_size allows you to control how finely you want to analyze your data. \n",
    "\n",
    "A smaller window_size creates a fine-grained analysis, whereas a larger window_size provides a coarser analysis.\n",
    "\n",
    "This window moves along the data as you calculate rolling statistics, providing insights into how data changes over time.\n",
    "\n",
    "Rolling calculations can smooth out noisy data by averaging or summarizing data points within the rolling window."
   ]
  },
  {
   "cell_type": "markdown",
   "id": "0c4f8c66",
   "metadata": {},
   "source": [
    "## Importing pandas library"
   ]
  },
  {
   "cell_type": "code",
   "execution_count": 1,
   "id": "d6236af8",
   "metadata": {},
   "outputs": [],
   "source": [
    "import pandas as pd"
   ]
  },
  {
   "cell_type": "markdown",
   "id": "371c22f7",
   "metadata": {},
   "source": [
    "## Reading my file"
   ]
  },
  {
   "cell_type": "code",
   "execution_count": 2,
   "id": "07abd190",
   "metadata": {
    "scrolled": true
   },
   "outputs": [
    {
     "data": {
      "text/html": [
       "<div>\n",
       "<style scoped>\n",
       "    .dataframe tbody tr th:only-of-type {\n",
       "        vertical-align: middle;\n",
       "    }\n",
       "\n",
       "    .dataframe tbody tr th {\n",
       "        vertical-align: top;\n",
       "    }\n",
       "\n",
       "    .dataframe thead th {\n",
       "        text-align: right;\n",
       "    }\n",
       "</style>\n",
       "<table border=\"1\" class=\"dataframe\">\n",
       "  <thead>\n",
       "    <tr style=\"text-align: right;\">\n",
       "      <th></th>\n",
       "      <th>date</th>\n",
       "      <th>admin1</th>\n",
       "      <th>admin2</th>\n",
       "      <th>market</th>\n",
       "      <th>price</th>\n",
       "      <th>usdprice</th>\n",
       "    </tr>\n",
       "  </thead>\n",
       "  <tbody>\n",
       "    <tr>\n",
       "      <th>0</th>\n",
       "      <td>2012-04-15</td>\n",
       "      <td>Tamil Nadu</td>\n",
       "      <td>Chennai</td>\n",
       "      <td>Chennai</td>\n",
       "      <td>18.78</td>\n",
       "      <td>0.36</td>\n",
       "    </tr>\n",
       "    <tr>\n",
       "      <th>1</th>\n",
       "      <td>2012-04-15</td>\n",
       "      <td>Tamil Nadu</td>\n",
       "      <td>Dindigul</td>\n",
       "      <td>Dindigul</td>\n",
       "      <td>21.61</td>\n",
       "      <td>0.42</td>\n",
       "    </tr>\n",
       "    <tr>\n",
       "      <th>2</th>\n",
       "      <td>2012-04-15</td>\n",
       "      <td>Tamil Nadu</td>\n",
       "      <td>Tiruchchirappalli</td>\n",
       "      <td>Thiruchirapalli</td>\n",
       "      <td>21.17</td>\n",
       "      <td>0.41</td>\n",
       "    </tr>\n",
       "    <tr>\n",
       "      <th>3</th>\n",
       "      <td>2012-07-15</td>\n",
       "      <td>Tamil Nadu</td>\n",
       "      <td>Chennai</td>\n",
       "      <td>Chennai</td>\n",
       "      <td>25.77</td>\n",
       "      <td>0.47</td>\n",
       "    </tr>\n",
       "    <tr>\n",
       "      <th>4</th>\n",
       "      <td>2012-07-15</td>\n",
       "      <td>Tamil Nadu</td>\n",
       "      <td>Dindigul</td>\n",
       "      <td>Dindigul</td>\n",
       "      <td>24.18</td>\n",
       "      <td>0.44</td>\n",
       "    </tr>\n",
       "  </tbody>\n",
       "</table>\n",
       "</div>"
      ],
      "text/plain": [
       "         date      admin1             admin2           market  price  usdprice\n",
       "0  2012-04-15  Tamil Nadu            Chennai          Chennai  18.78      0.36\n",
       "1  2012-04-15  Tamil Nadu           Dindigul         Dindigul  21.61      0.42\n",
       "2  2012-04-15  Tamil Nadu  Tiruchchirappalli  Thiruchirapalli  21.17      0.41\n",
       "3  2012-07-15  Tamil Nadu            Chennai          Chennai  25.77      0.47\n",
       "4  2012-07-15  Tamil Nadu           Dindigul         Dindigul  24.18      0.44"
      ]
     },
     "execution_count": 2,
     "metadata": {},
     "output_type": "execute_result"
    }
   ],
   "source": [
    "df = pd.read_csv('tn_tomato_price.csv')\n",
    "df.head()"
   ]
  },
  {
   "cell_type": "markdown",
   "id": "04b317a6",
   "metadata": {},
   "source": [
    "## slicing the dataframe and getting only date and price column"
   ]
  },
  {
   "cell_type": "code",
   "execution_count": 3,
   "id": "c9eb7a00",
   "metadata": {},
   "outputs": [],
   "source": [
    "df_price = df[['date','price']].set_index('date')"
   ]
  },
  {
   "cell_type": "code",
   "execution_count": 4,
   "id": "a61e116c",
   "metadata": {
    "scrolled": true
   },
   "outputs": [
    {
     "data": {
      "text/html": [
       "<div>\n",
       "<style scoped>\n",
       "    .dataframe tbody tr th:only-of-type {\n",
       "        vertical-align: middle;\n",
       "    }\n",
       "\n",
       "    .dataframe tbody tr th {\n",
       "        vertical-align: top;\n",
       "    }\n",
       "\n",
       "    .dataframe thead th {\n",
       "        text-align: right;\n",
       "    }\n",
       "</style>\n",
       "<table border=\"1\" class=\"dataframe\">\n",
       "  <thead>\n",
       "    <tr style=\"text-align: right;\">\n",
       "      <th></th>\n",
       "      <th>price</th>\n",
       "    </tr>\n",
       "    <tr>\n",
       "      <th>date</th>\n",
       "      <th></th>\n",
       "    </tr>\n",
       "  </thead>\n",
       "  <tbody>\n",
       "    <tr>\n",
       "      <th>2012-04-15</th>\n",
       "      <td>18.78</td>\n",
       "    </tr>\n",
       "    <tr>\n",
       "      <th>2012-04-15</th>\n",
       "      <td>21.61</td>\n",
       "    </tr>\n",
       "    <tr>\n",
       "      <th>2012-04-15</th>\n",
       "      <td>21.17</td>\n",
       "    </tr>\n",
       "    <tr>\n",
       "      <th>2012-07-15</th>\n",
       "      <td>25.77</td>\n",
       "    </tr>\n",
       "    <tr>\n",
       "      <th>2012-07-15</th>\n",
       "      <td>24.18</td>\n",
       "    </tr>\n",
       "    <tr>\n",
       "      <th>...</th>\n",
       "      <td>...</td>\n",
       "    </tr>\n",
       "    <tr>\n",
       "      <th>2021-07-15</th>\n",
       "      <td>19.71</td>\n",
       "    </tr>\n",
       "    <tr>\n",
       "      <th>2021-07-15</th>\n",
       "      <td>23.92</td>\n",
       "    </tr>\n",
       "    <tr>\n",
       "      <th>2021-07-15</th>\n",
       "      <td>19.74</td>\n",
       "    </tr>\n",
       "    <tr>\n",
       "      <th>2021-07-15</th>\n",
       "      <td>20.30</td>\n",
       "    </tr>\n",
       "    <tr>\n",
       "      <th>2021-07-15</th>\n",
       "      <td>17.74</td>\n",
       "    </tr>\n",
       "  </tbody>\n",
       "</table>\n",
       "<p>362 rows × 1 columns</p>\n",
       "</div>"
      ],
      "text/plain": [
       "            price\n",
       "date             \n",
       "2012-04-15  18.78\n",
       "2012-04-15  21.61\n",
       "2012-04-15  21.17\n",
       "2012-07-15  25.77\n",
       "2012-07-15  24.18\n",
       "...           ...\n",
       "2021-07-15  19.71\n",
       "2021-07-15  23.92\n",
       "2021-07-15  19.74\n",
       "2021-07-15  20.30\n",
       "2021-07-15  17.74\n",
       "\n",
       "[362 rows x 1 columns]"
      ]
     },
     "execution_count": 4,
     "metadata": {},
     "output_type": "execute_result"
    }
   ],
   "source": [
    "df_price"
   ]
  },
  {
   "cell_type": "markdown",
   "id": "56a48cd7",
   "metadata": {},
   "source": [
    "## Calculate rolling mean and standard deviation and Adjust window_size to your desired window size"
   ]
  },
  {
   "cell_type": "code",
   "execution_count": 5,
   "id": "98bee273",
   "metadata": {},
   "outputs": [],
   "source": [
    "window_size = 3"
   ]
  },
  {
   "cell_type": "markdown",
   "id": "3677b590",
   "metadata": {},
   "source": [
    "## Calculate the rolling mean"
   ]
  },
  {
   "cell_type": "code",
   "execution_count": 10,
   "id": "6a7dfc0e",
   "metadata": {},
   "outputs": [],
   "source": [
    "df_price['Rolling_Mean'] = df_price['price'].rolling(window=window_size).mean()"
   ]
  },
  {
   "cell_type": "markdown",
   "id": "89f6379e",
   "metadata": {},
   "source": [
    "## Calculate the rolling standard deviation"
   ]
  },
  {
   "cell_type": "code",
   "execution_count": 11,
   "id": "20074f30",
   "metadata": {},
   "outputs": [],
   "source": [
    "df_price['Rolling_Std'] = df_price['price'].rolling(window=window_size).std()"
   ]
  },
  {
   "cell_type": "markdown",
   "id": "f539aaf3",
   "metadata": {},
   "source": [
    "## Seeing the changes in the dataframe"
   ]
  },
  {
   "cell_type": "code",
   "execution_count": 12,
   "id": "0310bea7",
   "metadata": {},
   "outputs": [
    {
     "data": {
      "text/html": [
       "<div>\n",
       "<style scoped>\n",
       "    .dataframe tbody tr th:only-of-type {\n",
       "        vertical-align: middle;\n",
       "    }\n",
       "\n",
       "    .dataframe tbody tr th {\n",
       "        vertical-align: top;\n",
       "    }\n",
       "\n",
       "    .dataframe thead th {\n",
       "        text-align: right;\n",
       "    }\n",
       "</style>\n",
       "<table border=\"1\" class=\"dataframe\">\n",
       "  <thead>\n",
       "    <tr style=\"text-align: right;\">\n",
       "      <th></th>\n",
       "      <th>price</th>\n",
       "      <th>Rolling_Mean</th>\n",
       "      <th>Rolling_Std</th>\n",
       "    </tr>\n",
       "    <tr>\n",
       "      <th>date</th>\n",
       "      <th></th>\n",
       "      <th></th>\n",
       "      <th></th>\n",
       "    </tr>\n",
       "  </thead>\n",
       "  <tbody>\n",
       "    <tr>\n",
       "      <th>2012-04-15</th>\n",
       "      <td>18.78</td>\n",
       "      <td>NaN</td>\n",
       "      <td>NaN</td>\n",
       "    </tr>\n",
       "    <tr>\n",
       "      <th>2012-04-15</th>\n",
       "      <td>21.61</td>\n",
       "      <td>NaN</td>\n",
       "      <td>NaN</td>\n",
       "    </tr>\n",
       "    <tr>\n",
       "      <th>2012-04-15</th>\n",
       "      <td>21.17</td>\n",
       "      <td>20.520000</td>\n",
       "      <td>1.522859</td>\n",
       "    </tr>\n",
       "    <tr>\n",
       "      <th>2012-07-15</th>\n",
       "      <td>25.77</td>\n",
       "      <td>22.850000</td>\n",
       "      <td>2.538346</td>\n",
       "    </tr>\n",
       "    <tr>\n",
       "      <th>2012-07-15</th>\n",
       "      <td>24.18</td>\n",
       "      <td>23.706667</td>\n",
       "      <td>2.336243</td>\n",
       "    </tr>\n",
       "    <tr>\n",
       "      <th>...</th>\n",
       "      <td>...</td>\n",
       "      <td>...</td>\n",
       "      <td>...</td>\n",
       "    </tr>\n",
       "    <tr>\n",
       "      <th>2021-07-15</th>\n",
       "      <td>19.71</td>\n",
       "      <td>17.830000</td>\n",
       "      <td>1.691863</td>\n",
       "    </tr>\n",
       "    <tr>\n",
       "      <th>2021-07-15</th>\n",
       "      <td>23.92</td>\n",
       "      <td>20.326667</td>\n",
       "      <td>3.328128</td>\n",
       "    </tr>\n",
       "    <tr>\n",
       "      <th>2021-07-15</th>\n",
       "      <td>19.74</td>\n",
       "      <td>21.123333</td>\n",
       "      <td>2.422031</td>\n",
       "    </tr>\n",
       "    <tr>\n",
       "      <th>2021-07-15</th>\n",
       "      <td>20.30</td>\n",
       "      <td>21.320000</td>\n",
       "      <td>2.269009</td>\n",
       "    </tr>\n",
       "    <tr>\n",
       "      <th>2021-07-15</th>\n",
       "      <td>17.74</td>\n",
       "      <td>19.260000</td>\n",
       "      <td>1.345808</td>\n",
       "    </tr>\n",
       "  </tbody>\n",
       "</table>\n",
       "<p>362 rows × 3 columns</p>\n",
       "</div>"
      ],
      "text/plain": [
       "            price  Rolling_Mean  Rolling_Std\n",
       "date                                        \n",
       "2012-04-15  18.78           NaN          NaN\n",
       "2012-04-15  21.61           NaN          NaN\n",
       "2012-04-15  21.17     20.520000     1.522859\n",
       "2012-07-15  25.77     22.850000     2.538346\n",
       "2012-07-15  24.18     23.706667     2.336243\n",
       "...           ...           ...          ...\n",
       "2021-07-15  19.71     17.830000     1.691863\n",
       "2021-07-15  23.92     20.326667     3.328128\n",
       "2021-07-15  19.74     21.123333     2.422031\n",
       "2021-07-15  20.30     21.320000     2.269009\n",
       "2021-07-15  17.74     19.260000     1.345808\n",
       "\n",
       "[362 rows x 3 columns]"
      ]
     },
     "execution_count": 12,
     "metadata": {},
     "output_type": "execute_result"
    }
   ],
   "source": [
    "df_price"
   ]
  }
 ],
 "metadata": {
  "kernelspec": {
   "display_name": "Python 3 (ipykernel)",
   "language": "python",
   "name": "python3"
  },
  "language_info": {
   "codemirror_mode": {
    "name": "ipython",
    "version": 3
   },
   "file_extension": ".py",
   "mimetype": "text/x-python",
   "name": "python",
   "nbconvert_exporter": "python",
   "pygments_lexer": "ipython3",
   "version": "3.9.12"
  }
 },
 "nbformat": 4,
 "nbformat_minor": 5
}
