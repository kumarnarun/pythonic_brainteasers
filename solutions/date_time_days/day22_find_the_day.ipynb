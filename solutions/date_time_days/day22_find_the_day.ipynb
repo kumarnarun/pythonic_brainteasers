{
 "cells": [
  {
   "cell_type": "markdown",
   "id": "d19b3ffa",
   "metadata": {},
   "source": [
    "## Challenge: Find the day of the week for a given date.\n"
   ]
  },
  {
   "cell_type": "markdown",
   "id": "26123b40",
   "metadata": {},
   "source": [
    "Test_case:\n",
    "\n",
    "Input : find_day_of_week(\"2023-09-24\")\n",
    "\n",
    "output: \"Sunday\"\n"
   ]
  },
  {
   "cell_type": "markdown",
   "id": "3a0b1577",
   "metadata": {},
   "source": [
    "## Solution"
   ]
  },
  {
   "cell_type": "code",
   "execution_count": 8,
   "id": "ff75e32a",
   "metadata": {},
   "outputs": [],
   "source": [
    "from datetime import datetime\n",
    "\n",
    "def find_day_of_week(date_string):\n",
    "    return datetime.strptime(date_string, \"%Y-%m-%d\").strftime(\"%A\")\n"
   ]
  },
  {
   "cell_type": "markdown",
   "id": "d653fbf7",
   "metadata": {},
   "source": [
    "## Detailed Explanation"
   ]
  },
  {
   "cell_type": "markdown",
   "id": "27b1a54c",
   "metadata": {},
   "source": [
    "## Import the datetime Module"
   ]
  },
  {
   "cell_type": "markdown",
   "id": "3f01d465",
   "metadata": {},
   "source": [
    "**from datetime import datetime**"
   ]
  },
  {
   "cell_type": "markdown",
   "id": "a44e3cb8",
   "metadata": {},
   "source": [
    "We import the datetime class from the datetime module in the Python Standard Library. \n",
    "\n",
    "This class provides various date and time manipulation functions."
   ]
  },
  {
   "cell_type": "markdown",
   "id": "e4957a30",
   "metadata": {},
   "source": [
    "**Define the find_day_of_week Function**"
   ]
  },
  {
   "cell_type": "markdown",
   "id": "a05d9441",
   "metadata": {},
   "source": [
    "We define a function called find_day_of_week that takes a single argument, date_string. \n",
    "\n",
    "This argument is expected to be a date in the format \"YYYY-MM-DD.\""
   ]
  },
  {
   "cell_type": "markdown",
   "id": "91baed6a",
   "metadata": {},
   "source": [
    "## Parse the Date String"
   ]
  },
  {
   "cell_type": "markdown",
   "id": "f0b12b14",
   "metadata": {},
   "source": [
    "**datetime.strptime(date_string, \"%Y-%m-%d\")**"
   ]
  },
  {
   "cell_type": "markdown",
   "id": "192e1c26",
   "metadata": {},
   "source": [
    "1.We use the strptime method of the datetime class to parse the date_string into a datetime object.\n",
    "\n",
    "2.The second argument, \"%Y-%m-%d\", specifies the format of the date string. \n",
    "\n",
    "3.In this format, %Y represents the year with century as a decimal number (e.g., 2023), %m \n",
    "\n",
    "represents the month as a zero-padded decimal number (e.g., 09 for September), and %d represents\n",
    "\n",
    "the day of the month as a zero-padded decimal number (e.g., 23)."
   ]
  },
  {
   "cell_type": "markdown",
   "id": "ce9d5d73",
   "metadata": {},
   "source": [
    "## Get the Day of the Week"
   ]
  },
  {
   "cell_type": "markdown",
   "id": "7eda639d",
   "metadata": {},
   "source": [
    "**.strftime(\"%A\")**"
   ]
  },
  {
   "cell_type": "markdown",
   "id": "4ceb7213",
   "metadata": {},
   "source": [
    "After parsing the date string into a datetime object, we immediately use the strftime method to format the datetime object as a string. \n",
    "\n",
    "The format string \"%A\" is used to specify that we want the full day name (e.g., \"Monday,\" \"Tuesday\") as the output."
   ]
  },
  {
   "cell_type": "markdown",
   "id": "8cc2b896",
   "metadata": {},
   "source": [
    "## Return the Result"
   ]
  },
  {
   "cell_type": "markdown",
   "id": "1f0be286",
   "metadata": {},
   "source": [
    "**return datetime.strptime(date_string, \"%Y-%m-%d\").strftime(\"%A\")**\n"
   ]
  },
  {
   "cell_type": "markdown",
   "id": "788735e0",
   "metadata": {},
   "source": [
    "We return the formatted day of the week as a string."
   ]
  },
  {
   "cell_type": "markdown",
   "id": "ca30f05d",
   "metadata": {},
   "source": [
    "## Test cases"
   ]
  },
  {
   "cell_type": "code",
   "execution_count": 9,
   "id": "1f203c73",
   "metadata": {},
   "outputs": [
    {
     "data": {
      "text/plain": [
       "'Tuesday'"
      ]
     },
     "execution_count": 9,
     "metadata": {},
     "output_type": "execute_result"
    }
   ],
   "source": [
    "find_day_of_week(\"1997-08-19\")"
   ]
  },
  {
   "cell_type": "code",
   "execution_count": 10,
   "id": "2bedd203",
   "metadata": {},
   "outputs": [
    {
     "data": {
      "text/plain": [
       "'Sunday'"
      ]
     },
     "execution_count": 10,
     "metadata": {},
     "output_type": "execute_result"
    }
   ],
   "source": [
    "find_day_of_week(\"2023-09-24\")"
   ]
  },
  {
   "cell_type": "code",
   "execution_count": 11,
   "id": "694be55b",
   "metadata": {},
   "outputs": [
    {
     "data": {
      "text/plain": [
       "'Thursday'"
      ]
     },
     "execution_count": 11,
     "metadata": {},
     "output_type": "execute_result"
    }
   ],
   "source": [
    "find_day_of_week(\"2023-10-05\")"
   ]
  }
 ],
 "metadata": {
  "kernelspec": {
   "display_name": "Python 3 (ipykernel)",
   "language": "python",
   "name": "python3"
  },
  "language_info": {
   "codemirror_mode": {
    "name": "ipython",
    "version": 3
   },
   "file_extension": ".py",
   "mimetype": "text/x-python",
   "name": "python",
   "nbconvert_exporter": "python",
   "pygments_lexer": "ipython3",
   "version": "3.9.12"
  }
 },
 "nbformat": 4,
 "nbformat_minor": 5
}
